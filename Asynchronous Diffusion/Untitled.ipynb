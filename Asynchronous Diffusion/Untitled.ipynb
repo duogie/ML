{
 "cells": [
  {
   "cell_type": "code",
   "execution_count": 1,
   "id": "2fef07c0",
   "metadata": {},
   "outputs": [],
   "source": [
    "import pandas as pd\n",
    "import re\n",
    "import numpy as np\n",
    "from sklearn.neighbors import KNeighborsClassifier\n",
    "from sklearn.naive_bayes import MultinomialNB\n",
    "from sklearn.model_selection import train_test_split\n",
    "from sklearn.preprocessing import StandardScaler\n",
    "import joblib"
   ]
  },
  {
   "cell_type": "code",
   "execution_count": 2,
   "id": "114a4086",
   "metadata": {},
   "outputs": [],
   "source": [
    "df = pd.read_csv('diffusion_db_unaltered.csv')"
   ]
  },
  {
   "cell_type": "code",
   "execution_count": 3,
   "id": "7e89fe7e",
   "metadata": {},
   "outputs": [],
   "source": [
    "keywords = [\n",
    "    \"killing\", \"attacks\", \"attacking\", \"gun\", \"shoot\", \"stab\", \"murder\", \n",
    "    \"bomb\", \"threat\", \"harm\", \"suicide\", 'beat', \n",
    "    'choke', 'hit', 'punch', 'slaughter', 'strangle', \n",
    "    'suffocate', 'crush', 'assault', 'batter', 'maul', \n",
    "    'knife', 'rifle', 'pistol', 'blade', 'explosive', \n",
    "    'grenade', 'missile', 'poison', 'chainsaw', 'crowbar', \n",
    "    'bat', 'taser', 'detonate', 'slash', 'eliminate', \"illegal\", \"unlawful\", \"illicit\", \"contraband\", \n",
    "    \"prohibited\", \"banned\", \"fraud\", \"scam\", \"blackmail\", \"bribery\",\"counterfeit\", \"smuggling\", \n",
    "    \"money laundering\", \"identity theft\", \"cybercrime\", \"tax evasion\", \"ass\", \"bitch\", \"cock\", \"damn\",\n",
    "    \"dick\", \"fuck\", \"nude\", \"nudity\",\n",
    "    \"pussy\", \"vagina\", \"nsfw\", \"naked\", \"undressed\",\n",
    "    \"slut\", \"tit\", \"whore\",\"cum\", \"undress\",\n",
    "    \"dildo\", \"knocker\", \"boobs\",\n",
    "    \"boob\", \"bollock\", \"schmuck\", \"choad\", \"dumbfuck\",\n",
    "    \"jerk\", \"numbnuts\", \"seductive\",\n",
    "    \"fuckboy\", \"butthole\",\n",
    "    \"fanny\", \"munt\", \"butt\", \"porn\"\n",
    "] "
   ]
  },
  {
   "cell_type": "code",
   "execution_count": 4,
   "id": "edb03e87",
   "metadata": {},
   "outputs": [],
   "source": [
    "pattern = r\"\\b(\" + \"|\".join([f\"{word}\" for word in keywords]) + r\")\\b\" #regex patterns, can be changed depending on if i need case sensitivity or not\n",
    "regex = re.compile(pattern, flags=re.IGNORECASE)"
   ]
  },
  {
   "cell_type": "code",
   "execution_count": 5,
   "id": "68ca1eb9",
   "metadata": {},
   "outputs": [
    {
     "name": "stderr",
     "output_type": "stream",
     "text": [
      "C:\\Users\\dngo6\\AppData\\Local\\Temp\\ipykernel_6556\\2742730506.py:9: UserWarning: This pattern is interpreted as a regular expression, and has match groups. To actually get the groups, use str.extract.\n",
      "  chunk['contains_inappropriate'] = chunk['prompt'].str.contains(pattern, case=False, regex=True, na=False)\n",
      "C:\\Users\\dngo6\\AppData\\Local\\Temp\\ipykernel_6556\\2742730506.py:9: SettingWithCopyWarning: \n",
      "A value is trying to be set on a copy of a slice from a DataFrame.\n",
      "Try using .loc[row_indexer,col_indexer] = value instead\n",
      "\n",
      "See the caveats in the documentation: https://pandas.pydata.org/pandas-docs/stable/user_guide/indexing.html#returning-a-view-versus-a-copy\n",
      "  chunk['contains_inappropriate'] = chunk['prompt'].str.contains(pattern, case=False, regex=True, na=False)\n"
     ]
    }
   ],
   "source": [
    "sampled_data = pd.read_csv('diffusion_db_unaltered.csv', nrows=2000000)\n",
    "random_sample = sampled_data.sample(n=200000, random_state=5)  # Randomly sample 500,000 rows\n",
    "chunk_size = 200000\n",
    "output_list = []\n",
    "for start in range(0, len(random_sample), chunk_size):\n",
    "    # Take a chunk from the random sample\n",
    "    chunk = random_sample.iloc[start:start + chunk_size]\n",
    "    # Check for explicit content using the regular expression\n",
    "    chunk['contains_inappropriate'] = chunk['prompt'].str.contains(pattern, case=False, regex=True, na=False)\n",
    "    output_list.append(chunk)\n",
    "if output_list:\n",
    "    final_df = pd.concat(output_list, ignore_index=True)\n",
    "else:\n",
    "    print(\"No violent content found.\")"
   ]
  },
  {
   "cell_type": "code",
   "execution_count": 6,
   "id": "92691f23",
   "metadata": {},
   "outputs": [
    {
     "data": {
      "text/html": [
       "<div>\n",
       "<style scoped>\n",
       "    .dataframe tbody tr th:only-of-type {\n",
       "        vertical-align: middle;\n",
       "    }\n",
       "\n",
       "    .dataframe tbody tr th {\n",
       "        vertical-align: top;\n",
       "    }\n",
       "\n",
       "    .dataframe thead th {\n",
       "        text-align: right;\n",
       "    }\n",
       "</style>\n",
       "<table border=\"1\" class=\"dataframe\">\n",
       "  <thead>\n",
       "    <tr style=\"text-align: right;\">\n",
       "      <th></th>\n",
       "      <th>prompt</th>\n",
       "      <th>image_nsfw</th>\n",
       "      <th>prompt_nsfw</th>\n",
       "      <th>contains_inappropriate</th>\n",
       "    </tr>\n",
       "  </thead>\n",
       "  <tbody>\n",
       "    <tr>\n",
       "      <th>0</th>\n",
       "      <td>Emma watson Muscular and powerful medieval nob...</td>\n",
       "      <td>0.723663</td>\n",
       "      <td>0.001068</td>\n",
       "      <td>False</td>\n",
       "    </tr>\n",
       "    <tr>\n",
       "      <th>1</th>\n",
       "      <td>epic professional digital image of a hybrid gi...</td>\n",
       "      <td>0.487867</td>\n",
       "      <td>0.002508</td>\n",
       "      <td>False</td>\n",
       "    </tr>\n",
       "    <tr>\n",
       "      <th>2</th>\n",
       "      <td>scene from mupet save private ryan</td>\n",
       "      <td>0.050685</td>\n",
       "      <td>0.002552</td>\n",
       "      <td>False</td>\n",
       "    </tr>\n",
       "    <tr>\n",
       "      <th>3</th>\n",
       "      <td>anime, mage, vogue, intricate oil painting, tr...</td>\n",
       "      <td>0.283684</td>\n",
       "      <td>0.001868</td>\n",
       "      <td>False</td>\n",
       "    </tr>\n",
       "    <tr>\n",
       "      <th>4</th>\n",
       "      <td>humanoid rat who has bald head, weak chin clea...</td>\n",
       "      <td>0.053884</td>\n",
       "      <td>0.950304</td>\n",
       "      <td>False</td>\n",
       "    </tr>\n",
       "    <tr>\n",
       "      <th>...</th>\n",
       "      <td>...</td>\n",
       "      <td>...</td>\n",
       "      <td>...</td>\n",
       "      <td>...</td>\n",
       "    </tr>\n",
       "    <tr>\n",
       "      <th>199995</th>\n",
       "      <td>cnn breaking news, mar a lago has been violent...</td>\n",
       "      <td>0.039752</td>\n",
       "      <td>0.000935</td>\n",
       "      <td>False</td>\n",
       "    </tr>\n",
       "    <tr>\n",
       "      <th>199996</th>\n",
       "      <td>A robot talking to Gandalf the Grey in a beach...</td>\n",
       "      <td>0.079238</td>\n",
       "      <td>0.000419</td>\n",
       "      <td>False</td>\n",
       "    </tr>\n",
       "    <tr>\n",
       "      <th>199997</th>\n",
       "      <td>A fairy witch eating mushrooms in a magical fo...</td>\n",
       "      <td>0.735223</td>\n",
       "      <td>0.327841</td>\n",
       "      <td>False</td>\n",
       "    </tr>\n",
       "    <tr>\n",
       "      <th>199998</th>\n",
       "      <td>conversion van interior, van life</td>\n",
       "      <td>0.093359</td>\n",
       "      <td>0.001529</td>\n",
       "      <td>False</td>\n",
       "    </tr>\n",
       "    <tr>\n",
       "      <th>199999</th>\n",
       "      <td>logo design, roller derby girl sprinting Cross...</td>\n",
       "      <td>0.207018</td>\n",
       "      <td>0.002279</td>\n",
       "      <td>False</td>\n",
       "    </tr>\n",
       "  </tbody>\n",
       "</table>\n",
       "<p>200000 rows × 4 columns</p>\n",
       "</div>"
      ],
      "text/plain": [
       "                                                   prompt  image_nsfw  \\\n",
       "0       Emma watson Muscular and powerful medieval nob...    0.723663   \n",
       "1       epic professional digital image of a hybrid gi...    0.487867   \n",
       "2                     scene from mupet save private ryan     0.050685   \n",
       "3       anime, mage, vogue, intricate oil painting, tr...    0.283684   \n",
       "4       humanoid rat who has bald head, weak chin clea...    0.053884   \n",
       "...                                                   ...         ...   \n",
       "199995  cnn breaking news, mar a lago has been violent...    0.039752   \n",
       "199996  A robot talking to Gandalf the Grey in a beach...    0.079238   \n",
       "199997  A fairy witch eating mushrooms in a magical fo...    0.735223   \n",
       "199998                  conversion van interior, van life    0.093359   \n",
       "199999  logo design, roller derby girl sprinting Cross...    0.207018   \n",
       "\n",
       "        prompt_nsfw  contains_inappropriate  \n",
       "0          0.001068                   False  \n",
       "1          0.002508                   False  \n",
       "2          0.002552                   False  \n",
       "3          0.001868                   False  \n",
       "4          0.950304                   False  \n",
       "...             ...                     ...  \n",
       "199995     0.000935                   False  \n",
       "199996     0.000419                   False  \n",
       "199997     0.327841                   False  \n",
       "199998     0.001529                   False  \n",
       "199999     0.002279                   False  \n",
       "\n",
       "[200000 rows x 4 columns]"
      ]
     },
     "execution_count": 6,
     "metadata": {},
     "output_type": "execute_result"
    }
   ],
   "source": [
    "final_df"
   ]
  },
  {
   "cell_type": "code",
   "execution_count": 7,
   "id": "bb6a81a7",
   "metadata": {},
   "outputs": [],
   "source": [
    "inappropriate_rows = chunk[chunk['contains_inappropriate']]\n",
    "inappropriate_rows = inappropriate_rows.replace({True: 1, False: 0})\n",
    "non_inappropriate_rows = chunk[chunk['contains_inappropriate']]\n",
    "non_inappropriate_rows = non_inappropriate_rows.replace({True: 1, False: 0})"
   ]
  },
  {
   "cell_type": "code",
   "execution_count": 43,
   "id": "c0ba4500",
   "metadata": {},
   "outputs": [
    {
     "data": {
      "text/html": [
       "<div>\n",
       "<style scoped>\n",
       "    .dataframe tbody tr th:only-of-type {\n",
       "        vertical-align: middle;\n",
       "    }\n",
       "\n",
       "    .dataframe tbody tr th {\n",
       "        vertical-align: top;\n",
       "    }\n",
       "\n",
       "    .dataframe thead th {\n",
       "        text-align: right;\n",
       "    }\n",
       "</style>\n",
       "<table border=\"1\" class=\"dataframe\">\n",
       "  <thead>\n",
       "    <tr style=\"text-align: right;\">\n",
       "      <th></th>\n",
       "      <th>prompt</th>\n",
       "      <th>image_nsfw</th>\n",
       "      <th>prompt_nsfw</th>\n",
       "      <th>contains_inappropriate</th>\n",
       "    </tr>\n",
       "  </thead>\n",
       "  <tbody>\n",
       "    <tr>\n",
       "      <th>1105087</th>\n",
       "      <td>cocnert for cello and atomic bomb</td>\n",
       "      <td>0.051783</td>\n",
       "      <td>0.066775</td>\n",
       "      <td>1</td>\n",
       "    </tr>\n",
       "    <tr>\n",
       "      <th>1099840</th>\n",
       "      <td>Kirby holding gun.</td>\n",
       "      <td>0.126990</td>\n",
       "      <td>0.045630</td>\n",
       "      <td>1</td>\n",
       "    </tr>\n",
       "    <tr>\n",
       "      <th>247380</th>\n",
       "      <td>expressive full body photo of the poison ivy, ...</td>\n",
       "      <td>0.273169</td>\n",
       "      <td>0.003889</td>\n",
       "      <td>1</td>\n",
       "    </tr>\n",
       "    <tr>\n",
       "      <th>737454</th>\n",
       "      <td>spiritual journey into tarot, psycho magick fu...</td>\n",
       "      <td>0.112924</td>\n",
       "      <td>0.913732</td>\n",
       "      <td>1</td>\n",
       "    </tr>\n",
       "    <tr>\n",
       "      <th>1587022</th>\n",
       "      <td>it gives me holding fend off the geezers and w...</td>\n",
       "      <td>0.024367</td>\n",
       "      <td>0.018102</td>\n",
       "      <td>1</td>\n",
       "    </tr>\n",
       "    <tr>\n",
       "      <th>...</th>\n",
       "      <td>...</td>\n",
       "      <td>...</td>\n",
       "      <td>...</td>\n",
       "      <td>...</td>\n",
       "    </tr>\n",
       "    <tr>\n",
       "      <th>982877</th>\n",
       "      <td>glamorous and sexy Geisha, beautiful pale make...</td>\n",
       "      <td>0.506673</td>\n",
       "      <td>0.001151</td>\n",
       "      <td>1</td>\n",
       "    </tr>\n",
       "    <tr>\n",
       "      <th>1788274</th>\n",
       "      <td>concpet art, full shot, traditional ink, sketc...</td>\n",
       "      <td>0.648989</td>\n",
       "      <td>0.002293</td>\n",
       "      <td>1</td>\n",
       "    </tr>\n",
       "    <tr>\n",
       "      <th>1087196</th>\n",
       "      <td>high detailed humanized hamster in a cyberpunk...</td>\n",
       "      <td>0.041357</td>\n",
       "      <td>0.001086</td>\n",
       "      <td>1</td>\n",
       "    </tr>\n",
       "    <tr>\n",
       "      <th>1497829</th>\n",
       "      <td>futuristic street scene, blade runner, highly ...</td>\n",
       "      <td>0.055336</td>\n",
       "      <td>0.000684</td>\n",
       "      <td>1</td>\n",
       "    </tr>\n",
       "    <tr>\n",
       "      <th>1078392</th>\n",
       "      <td>big praying mantis full body transparent manti...</td>\n",
       "      <td>0.270789</td>\n",
       "      <td>0.003600</td>\n",
       "      <td>1</td>\n",
       "    </tr>\n",
       "  </tbody>\n",
       "</table>\n",
       "<p>3847 rows × 4 columns</p>\n",
       "</div>"
      ],
      "text/plain": [
       "                                                    prompt  image_nsfw  \\\n",
       "1105087                  cocnert for cello and atomic bomb    0.051783   \n",
       "1099840                                 Kirby holding gun.    0.126990   \n",
       "247380   expressive full body photo of the poison ivy, ...    0.273169   \n",
       "737454   spiritual journey into tarot, psycho magick fu...    0.112924   \n",
       "1587022  it gives me holding fend off the geezers and w...    0.024367   \n",
       "...                                                    ...         ...   \n",
       "982877   glamorous and sexy Geisha, beautiful pale make...    0.506673   \n",
       "1788274  concpet art, full shot, traditional ink, sketc...    0.648989   \n",
       "1087196  high detailed humanized hamster in a cyberpunk...    0.041357   \n",
       "1497829  futuristic street scene, blade runner, highly ...    0.055336   \n",
       "1078392  big praying mantis full body transparent manti...    0.270789   \n",
       "\n",
       "         prompt_nsfw  contains_inappropriate  \n",
       "1105087     0.066775                       1  \n",
       "1099840     0.045630                       1  \n",
       "247380      0.003889                       1  \n",
       "737454      0.913732                       1  \n",
       "1587022     0.018102                       1  \n",
       "...              ...                     ...  \n",
       "982877      0.001151                       1  \n",
       "1788274     0.002293                       1  \n",
       "1087196     0.001086                       1  \n",
       "1497829     0.000684                       1  \n",
       "1078392     0.003600                       1  \n",
       "\n",
       "[3847 rows x 4 columns]"
      ]
     },
     "execution_count": 43,
     "metadata": {},
     "output_type": "execute_result"
    }
   ],
   "source": [
    "inappropriate_rows"
   ]
  },
  {
   "cell_type": "code",
   "execution_count": 44,
   "id": "067aeb80",
   "metadata": {},
   "outputs": [
    {
     "data": {
      "text/html": [
       "<div>\n",
       "<style scoped>\n",
       "    .dataframe tbody tr th:only-of-type {\n",
       "        vertical-align: middle;\n",
       "    }\n",
       "\n",
       "    .dataframe tbody tr th {\n",
       "        vertical-align: top;\n",
       "    }\n",
       "\n",
       "    .dataframe thead th {\n",
       "        text-align: right;\n",
       "    }\n",
       "</style>\n",
       "<table border=\"1\" class=\"dataframe\">\n",
       "  <thead>\n",
       "    <tr style=\"text-align: right;\">\n",
       "      <th></th>\n",
       "      <th>prompt</th>\n",
       "      <th>image_nsfw</th>\n",
       "      <th>prompt_nsfw</th>\n",
       "      <th>contains_inappropriate</th>\n",
       "    </tr>\n",
       "  </thead>\n",
       "  <tbody>\n",
       "    <tr>\n",
       "      <th>1105087</th>\n",
       "      <td>cocnert for cello and atomic bomb</td>\n",
       "      <td>0.051783</td>\n",
       "      <td>0.066775</td>\n",
       "      <td>1</td>\n",
       "    </tr>\n",
       "    <tr>\n",
       "      <th>1099840</th>\n",
       "      <td>Kirby holding gun.</td>\n",
       "      <td>0.126990</td>\n",
       "      <td>0.045630</td>\n",
       "      <td>1</td>\n",
       "    </tr>\n",
       "    <tr>\n",
       "      <th>247380</th>\n",
       "      <td>expressive full body photo of the poison ivy, ...</td>\n",
       "      <td>0.273169</td>\n",
       "      <td>0.003889</td>\n",
       "      <td>1</td>\n",
       "    </tr>\n",
       "    <tr>\n",
       "      <th>737454</th>\n",
       "      <td>spiritual journey into tarot, psycho magick fu...</td>\n",
       "      <td>0.112924</td>\n",
       "      <td>0.913732</td>\n",
       "      <td>1</td>\n",
       "    </tr>\n",
       "    <tr>\n",
       "      <th>1587022</th>\n",
       "      <td>it gives me holding fend off the geezers and w...</td>\n",
       "      <td>0.024367</td>\n",
       "      <td>0.018102</td>\n",
       "      <td>1</td>\n",
       "    </tr>\n",
       "    <tr>\n",
       "      <th>...</th>\n",
       "      <td>...</td>\n",
       "      <td>...</td>\n",
       "      <td>...</td>\n",
       "      <td>...</td>\n",
       "    </tr>\n",
       "    <tr>\n",
       "      <th>982877</th>\n",
       "      <td>glamorous and sexy Geisha, beautiful pale make...</td>\n",
       "      <td>0.506673</td>\n",
       "      <td>0.001151</td>\n",
       "      <td>1</td>\n",
       "    </tr>\n",
       "    <tr>\n",
       "      <th>1788274</th>\n",
       "      <td>concpet art, full shot, traditional ink, sketc...</td>\n",
       "      <td>0.648989</td>\n",
       "      <td>0.002293</td>\n",
       "      <td>1</td>\n",
       "    </tr>\n",
       "    <tr>\n",
       "      <th>1087196</th>\n",
       "      <td>high detailed humanized hamster in a cyberpunk...</td>\n",
       "      <td>0.041357</td>\n",
       "      <td>0.001086</td>\n",
       "      <td>1</td>\n",
       "    </tr>\n",
       "    <tr>\n",
       "      <th>1497829</th>\n",
       "      <td>futuristic street scene, blade runner, highly ...</td>\n",
       "      <td>0.055336</td>\n",
       "      <td>0.000684</td>\n",
       "      <td>1</td>\n",
       "    </tr>\n",
       "    <tr>\n",
       "      <th>1078392</th>\n",
       "      <td>big praying mantis full body transparent manti...</td>\n",
       "      <td>0.270789</td>\n",
       "      <td>0.003600</td>\n",
       "      <td>1</td>\n",
       "    </tr>\n",
       "  </tbody>\n",
       "</table>\n",
       "<p>3847 rows × 4 columns</p>\n",
       "</div>"
      ],
      "text/plain": [
       "                                                    prompt  image_nsfw  \\\n",
       "1105087                  cocnert for cello and atomic bomb    0.051783   \n",
       "1099840                                 Kirby holding gun.    0.126990   \n",
       "247380   expressive full body photo of the poison ivy, ...    0.273169   \n",
       "737454   spiritual journey into tarot, psycho magick fu...    0.112924   \n",
       "1587022  it gives me holding fend off the geezers and w...    0.024367   \n",
       "...                                                    ...         ...   \n",
       "982877   glamorous and sexy Geisha, beautiful pale make...    0.506673   \n",
       "1788274  concpet art, full shot, traditional ink, sketc...    0.648989   \n",
       "1087196  high detailed humanized hamster in a cyberpunk...    0.041357   \n",
       "1497829  futuristic street scene, blade runner, highly ...    0.055336   \n",
       "1078392  big praying mantis full body transparent manti...    0.270789   \n",
       "\n",
       "         prompt_nsfw  contains_inappropriate  \n",
       "1105087     0.066775                       1  \n",
       "1099840     0.045630                       1  \n",
       "247380      0.003889                       1  \n",
       "737454      0.913732                       1  \n",
       "1587022     0.018102                       1  \n",
       "...              ...                     ...  \n",
       "982877      0.001151                       1  \n",
       "1788274     0.002293                       1  \n",
       "1087196     0.001086                       1  \n",
       "1497829     0.000684                       1  \n",
       "1078392     0.003600                       1  \n",
       "\n",
       "[3847 rows x 4 columns]"
      ]
     },
     "execution_count": 44,
     "metadata": {},
     "output_type": "execute_result"
    }
   ],
   "source": [
    "non_inappropriate_rows"
   ]
  },
  {
   "cell_type": "code",
   "execution_count": 8,
   "id": "d3aec6b9",
   "metadata": {},
   "outputs": [],
   "source": [
    "neigh = KNeighborsClassifier(n_neighbors=5)\n",
    "clf = MultinomialNB()"
   ]
  },
  {
   "cell_type": "code",
   "execution_count": 9,
   "id": "b3d03ad7",
   "metadata": {},
   "outputs": [
    {
     "data": {
      "text/html": [
       "<div>\n",
       "<style scoped>\n",
       "    .dataframe tbody tr th:only-of-type {\n",
       "        vertical-align: middle;\n",
       "    }\n",
       "\n",
       "    .dataframe tbody tr th {\n",
       "        vertical-align: top;\n",
       "    }\n",
       "\n",
       "    .dataframe thead th {\n",
       "        text-align: right;\n",
       "    }\n",
       "</style>\n",
       "<table border=\"1\" class=\"dataframe\">\n",
       "  <thead>\n",
       "    <tr style=\"text-align: right;\">\n",
       "      <th></th>\n",
       "      <th>prompt</th>\n",
       "      <th>image_nsfw</th>\n",
       "      <th>prompt_nsfw</th>\n",
       "      <th>contains_inappropriate</th>\n",
       "    </tr>\n",
       "  </thead>\n",
       "  <tbody>\n",
       "    <tr>\n",
       "      <th>0</th>\n",
       "      <td>Emma watson Muscular and powerful medieval nob...</td>\n",
       "      <td>0.723663</td>\n",
       "      <td>0.001068</td>\n",
       "      <td>0</td>\n",
       "    </tr>\n",
       "    <tr>\n",
       "      <th>1</th>\n",
       "      <td>epic professional digital image of a hybrid gi...</td>\n",
       "      <td>0.487867</td>\n",
       "      <td>0.002508</td>\n",
       "      <td>0</td>\n",
       "    </tr>\n",
       "    <tr>\n",
       "      <th>2</th>\n",
       "      <td>scene from mupet save private ryan</td>\n",
       "      <td>0.050685</td>\n",
       "      <td>0.002552</td>\n",
       "      <td>0</td>\n",
       "    </tr>\n",
       "    <tr>\n",
       "      <th>3</th>\n",
       "      <td>anime, mage, vogue, intricate oil painting, tr...</td>\n",
       "      <td>0.283684</td>\n",
       "      <td>0.001868</td>\n",
       "      <td>0</td>\n",
       "    </tr>\n",
       "    <tr>\n",
       "      <th>4</th>\n",
       "      <td>humanoid rat who has bald head, weak chin clea...</td>\n",
       "      <td>0.053884</td>\n",
       "      <td>0.950304</td>\n",
       "      <td>0</td>\n",
       "    </tr>\n",
       "    <tr>\n",
       "      <th>...</th>\n",
       "      <td>...</td>\n",
       "      <td>...</td>\n",
       "      <td>...</td>\n",
       "      <td>...</td>\n",
       "    </tr>\n",
       "    <tr>\n",
       "      <th>199995</th>\n",
       "      <td>cnn breaking news, mar a lago has been violent...</td>\n",
       "      <td>0.039752</td>\n",
       "      <td>0.000935</td>\n",
       "      <td>0</td>\n",
       "    </tr>\n",
       "    <tr>\n",
       "      <th>199996</th>\n",
       "      <td>A robot talking to Gandalf the Grey in a beach...</td>\n",
       "      <td>0.079238</td>\n",
       "      <td>0.000419</td>\n",
       "      <td>0</td>\n",
       "    </tr>\n",
       "    <tr>\n",
       "      <th>199997</th>\n",
       "      <td>A fairy witch eating mushrooms in a magical fo...</td>\n",
       "      <td>0.735223</td>\n",
       "      <td>0.327841</td>\n",
       "      <td>0</td>\n",
       "    </tr>\n",
       "    <tr>\n",
       "      <th>199998</th>\n",
       "      <td>conversion van interior, van life</td>\n",
       "      <td>0.093359</td>\n",
       "      <td>0.001529</td>\n",
       "      <td>0</td>\n",
       "    </tr>\n",
       "    <tr>\n",
       "      <th>199999</th>\n",
       "      <td>logo design, roller derby girl sprinting Cross...</td>\n",
       "      <td>0.207018</td>\n",
       "      <td>0.002279</td>\n",
       "      <td>0</td>\n",
       "    </tr>\n",
       "  </tbody>\n",
       "</table>\n",
       "<p>200000 rows × 4 columns</p>\n",
       "</div>"
      ],
      "text/plain": [
       "                                                   prompt  image_nsfw  \\\n",
       "0       Emma watson Muscular and powerful medieval nob...    0.723663   \n",
       "1       epic professional digital image of a hybrid gi...    0.487867   \n",
       "2                     scene from mupet save private ryan     0.050685   \n",
       "3       anime, mage, vogue, intricate oil painting, tr...    0.283684   \n",
       "4       humanoid rat who has bald head, weak chin clea...    0.053884   \n",
       "...                                                   ...         ...   \n",
       "199995  cnn breaking news, mar a lago has been violent...    0.039752   \n",
       "199996  A robot talking to Gandalf the Grey in a beach...    0.079238   \n",
       "199997  A fairy witch eating mushrooms in a magical fo...    0.735223   \n",
       "199998                  conversion van interior, van life    0.093359   \n",
       "199999  logo design, roller derby girl sprinting Cross...    0.207018   \n",
       "\n",
       "        prompt_nsfw  contains_inappropriate  \n",
       "0          0.001068                       0  \n",
       "1          0.002508                       0  \n",
       "2          0.002552                       0  \n",
       "3          0.001868                       0  \n",
       "4          0.950304                       0  \n",
       "...             ...                     ...  \n",
       "199995     0.000935                       0  \n",
       "199996     0.000419                       0  \n",
       "199997     0.327841                       0  \n",
       "199998     0.001529                       0  \n",
       "199999     0.002279                       0  \n",
       "\n",
       "[200000 rows x 4 columns]"
      ]
     },
     "execution_count": 9,
     "metadata": {},
     "output_type": "execute_result"
    }
   ],
   "source": [
    "final_df.replace({True: 1, False: 0})"
   ]
  },
  {
   "cell_type": "code",
   "execution_count": 10,
   "id": "ebce09bb",
   "metadata": {},
   "outputs": [
    {
     "data": {
      "text/html": [
       "<div>\n",
       "<style scoped>\n",
       "    .dataframe tbody tr th:only-of-type {\n",
       "        vertical-align: middle;\n",
       "    }\n",
       "\n",
       "    .dataframe tbody tr th {\n",
       "        vertical-align: top;\n",
       "    }\n",
       "\n",
       "    .dataframe thead th {\n",
       "        text-align: right;\n",
       "    }\n",
       "</style>\n",
       "<table border=\"1\" class=\"dataframe\">\n",
       "  <thead>\n",
       "    <tr style=\"text-align: right;\">\n",
       "      <th></th>\n",
       "      <th>prompt</th>\n",
       "      <th>image_nsfw</th>\n",
       "      <th>prompt_nsfw</th>\n",
       "      <th>contains_inappropriate</th>\n",
       "    </tr>\n",
       "  </thead>\n",
       "  <tbody>\n",
       "    <tr>\n",
       "      <th>1105087</th>\n",
       "      <td>cocnert for cello and atomic bomb</td>\n",
       "      <td>0.051783</td>\n",
       "      <td>0.066775</td>\n",
       "      <td>1</td>\n",
       "    </tr>\n",
       "    <tr>\n",
       "      <th>1099840</th>\n",
       "      <td>Kirby holding gun.</td>\n",
       "      <td>0.126990</td>\n",
       "      <td>0.045630</td>\n",
       "      <td>1</td>\n",
       "    </tr>\n",
       "    <tr>\n",
       "      <th>247380</th>\n",
       "      <td>expressive full body photo of the poison ivy, ...</td>\n",
       "      <td>0.273169</td>\n",
       "      <td>0.003889</td>\n",
       "      <td>1</td>\n",
       "    </tr>\n",
       "    <tr>\n",
       "      <th>737454</th>\n",
       "      <td>spiritual journey into tarot, psycho magick fu...</td>\n",
       "      <td>0.112924</td>\n",
       "      <td>0.913732</td>\n",
       "      <td>1</td>\n",
       "    </tr>\n",
       "    <tr>\n",
       "      <th>1587022</th>\n",
       "      <td>it gives me holding fend off the geezers and w...</td>\n",
       "      <td>0.024367</td>\n",
       "      <td>0.018102</td>\n",
       "      <td>1</td>\n",
       "    </tr>\n",
       "    <tr>\n",
       "      <th>...</th>\n",
       "      <td>...</td>\n",
       "      <td>...</td>\n",
       "      <td>...</td>\n",
       "      <td>...</td>\n",
       "    </tr>\n",
       "    <tr>\n",
       "      <th>982877</th>\n",
       "      <td>glamorous and sexy Geisha, beautiful pale make...</td>\n",
       "      <td>0.506673</td>\n",
       "      <td>0.001151</td>\n",
       "      <td>1</td>\n",
       "    </tr>\n",
       "    <tr>\n",
       "      <th>1788274</th>\n",
       "      <td>concpet art, full shot, traditional ink, sketc...</td>\n",
       "      <td>0.648989</td>\n",
       "      <td>0.002293</td>\n",
       "      <td>1</td>\n",
       "    </tr>\n",
       "    <tr>\n",
       "      <th>1087196</th>\n",
       "      <td>high detailed humanized hamster in a cyberpunk...</td>\n",
       "      <td>0.041357</td>\n",
       "      <td>0.001086</td>\n",
       "      <td>1</td>\n",
       "    </tr>\n",
       "    <tr>\n",
       "      <th>1497829</th>\n",
       "      <td>futuristic street scene, blade runner, highly ...</td>\n",
       "      <td>0.055336</td>\n",
       "      <td>0.000684</td>\n",
       "      <td>1</td>\n",
       "    </tr>\n",
       "    <tr>\n",
       "      <th>1078392</th>\n",
       "      <td>big praying mantis full body transparent manti...</td>\n",
       "      <td>0.270789</td>\n",
       "      <td>0.003600</td>\n",
       "      <td>1</td>\n",
       "    </tr>\n",
       "  </tbody>\n",
       "</table>\n",
       "<p>3847 rows × 4 columns</p>\n",
       "</div>"
      ],
      "text/plain": [
       "                                                    prompt  image_nsfw  \\\n",
       "1105087                  cocnert for cello and atomic bomb    0.051783   \n",
       "1099840                                 Kirby holding gun.    0.126990   \n",
       "247380   expressive full body photo of the poison ivy, ...    0.273169   \n",
       "737454   spiritual journey into tarot, psycho magick fu...    0.112924   \n",
       "1587022  it gives me holding fend off the geezers and w...    0.024367   \n",
       "...                                                    ...         ...   \n",
       "982877   glamorous and sexy Geisha, beautiful pale make...    0.506673   \n",
       "1788274  concpet art, full shot, traditional ink, sketc...    0.648989   \n",
       "1087196  high detailed humanized hamster in a cyberpunk...    0.041357   \n",
       "1497829  futuristic street scene, blade runner, highly ...    0.055336   \n",
       "1078392  big praying mantis full body transparent manti...    0.270789   \n",
       "\n",
       "         prompt_nsfw  contains_inappropriate  \n",
       "1105087     0.066775                       1  \n",
       "1099840     0.045630                       1  \n",
       "247380      0.003889                       1  \n",
       "737454      0.913732                       1  \n",
       "1587022     0.018102                       1  \n",
       "...              ...                     ...  \n",
       "982877      0.001151                       1  \n",
       "1788274     0.002293                       1  \n",
       "1087196     0.001086                       1  \n",
       "1497829     0.000684                       1  \n",
       "1078392     0.003600                       1  \n",
       "\n",
       "[3847 rows x 4 columns]"
      ]
     },
     "execution_count": 10,
     "metadata": {},
     "output_type": "execute_result"
    }
   ],
   "source": [
    "inappropriate_rows"
   ]
  },
  {
   "cell_type": "code",
   "execution_count": 11,
   "id": "f8d175ab",
   "metadata": {},
   "outputs": [],
   "source": [
    "y = (final_df['prompt_nsfw']>=0.24992168707536688)"
   ]
  },
  {
   "cell_type": "code",
   "execution_count": 12,
   "id": "edc1b4c2",
   "metadata": {},
   "outputs": [],
   "source": [
    "X = final_df[['contains_inappropriate']]"
   ]
  },
  {
   "cell_type": "code",
   "execution_count": 13,
   "id": "80ddc24b",
   "metadata": {},
   "outputs": [
    {
     "data": {
      "text/plain": [
       "KNeighborsClassifier()"
      ]
     },
     "execution_count": 13,
     "metadata": {},
     "output_type": "execute_result"
    }
   ],
   "source": [
    "neigh.fit(X, y)"
   ]
  },
  {
   "cell_type": "code",
   "execution_count": 14,
   "id": "40bf5a6d",
   "metadata": {},
   "outputs": [
    {
     "data": {
      "text/plain": [
       "MultinomialNB()"
      ]
     },
     "execution_count": 14,
     "metadata": {},
     "output_type": "execute_result"
    }
   ],
   "source": [
    "clf.fit(X, y)"
   ]
  },
  {
   "cell_type": "code",
   "execution_count": 15,
   "id": "cf7dd24e",
   "metadata": {},
   "outputs": [],
   "source": [
    "scaler = StandardScaler()\n",
    "X_scaled = scaler.fit_transform(X)"
   ]
  },
  {
   "cell_type": "code",
   "execution_count": 16,
   "id": "adf8f813",
   "metadata": {},
   "outputs": [],
   "source": [
    "X_train, X_test, y_train, y_test = train_test_split(\n",
    "    X_scaled, y, test_size=0.2, random_state=42)"
   ]
  },
  {
   "cell_type": "code",
   "execution_count": 17,
   "id": "e4e8862d",
   "metadata": {},
   "outputs": [
    {
     "data": {
      "text/plain": [
       "KNeighborsClassifier()"
      ]
     },
     "execution_count": 17,
     "metadata": {},
     "output_type": "execute_result"
    }
   ],
   "source": [
    "knn = KNeighborsClassifier(n_neighbors=5)\n",
    "knn.fit(X_train, y_train)"
   ]
  },
  {
   "cell_type": "code",
   "execution_count": 18,
   "id": "3dbe6d62",
   "metadata": {},
   "outputs": [],
   "source": [
    "final_df.loc[final_df['contains_inappropriate'] == 1, \"contains_inappropriate\"] = \"Harmful\"\n",
    "final_df.loc[final_df['contains_inappropriate'] == 0, \"contains_inappropriate\"] = \"Harmless\""
   ]
  },
  {
   "cell_type": "code",
   "execution_count": 19,
   "id": "4c60e8fd",
   "metadata": {},
   "outputs": [
    {
     "name": "stderr",
     "output_type": "stream",
     "text": [
      "C:\\ProgramData\\Anaconda3\\lib\\site-packages\\sklearn\\neighbors\\_classification.py:228: FutureWarning: Unlike other reduction functions (e.g. `skew`, `kurtosis`), the default behavior of `mode` typically preserves the axis it acts along. In SciPy 1.11.0, this behavior will change: the default value of `keepdims` will become False, the `axis` over which the statistic is taken will be eliminated, and the value None will no longer be accepted. Set `keepdims` to True or False to avoid this warning.\n",
      "  mode, _ = stats.mode(_y[neigh_ind, k], axis=1)\n"
     ]
    }
   ],
   "source": [
    "y_pred = knn.predict(X_test)"
   ]
  },
  {
   "cell_type": "code",
   "execution_count": 20,
   "id": "e062ffda",
   "metadata": {},
   "outputs": [
    {
     "data": {
      "text/plain": [
       "0.97275"
      ]
     },
     "execution_count": 20,
     "metadata": {},
     "output_type": "execute_result"
    }
   ],
   "source": [
    "from sklearn.metrics import accuracy_score\n",
    "accuracy_score(y_test, y_pred)"
   ]
  },
  {
   "cell_type": "code",
   "execution_count": 21,
   "id": "bcd396b6",
   "metadata": {},
   "outputs": [
    {
     "name": "stderr",
     "output_type": "stream",
     "text": [
      "C:\\ProgramData\\Anaconda3\\lib\\site-packages\\sklearn\\metrics\\_classification.py:1318: UndefinedMetricWarning: Precision is ill-defined and being set to 0.0 in labels with no predicted samples. Use `zero_division` parameter to control this behavior.\n",
      "  _warn_prf(average, modifier, msg_start, len(result))\n"
     ]
    },
    {
     "data": {
      "text/plain": [
       "0.486375"
      ]
     },
     "execution_count": 21,
     "metadata": {},
     "output_type": "execute_result"
    }
   ],
   "source": [
    "from sklearn.metrics import precision_score\n",
    "precision_score(y_test, y_pred, average='macro')"
   ]
  },
  {
   "cell_type": "code",
   "execution_count": 22,
   "id": "2151103a",
   "metadata": {},
   "outputs": [
    {
     "data": {
      "text/plain": [
       "0.5"
      ]
     },
     "execution_count": 22,
     "metadata": {},
     "output_type": "execute_result"
    }
   ],
   "source": [
    "from sklearn.metrics import recall_score\n",
    "recall_score(y_test, y_pred, average='macro')"
   ]
  },
  {
   "cell_type": "code",
   "execution_count": 23,
   "id": "25247996",
   "metadata": {},
   "outputs": [
    {
     "data": {
      "text/plain": [
       "0.493093397541503"
      ]
     },
     "execution_count": 23,
     "metadata": {},
     "output_type": "execute_result"
    }
   ],
   "source": [
    "from sklearn.metrics import f1_score\n",
    "f1_score(y_test, y_pred, average='macro')"
   ]
  },
  {
   "cell_type": "code",
   "execution_count": 24,
   "id": "042092c2",
   "metadata": {},
   "outputs": [],
   "source": [
    "y_pred_bayes = clf.predict(X)"
   ]
  },
  {
   "cell_type": "code",
   "execution_count": 25,
   "id": "63430cbc",
   "metadata": {},
   "outputs": [
    {
     "data": {
      "text/plain": [
       "0.97297"
      ]
     },
     "execution_count": 25,
     "metadata": {},
     "output_type": "execute_result"
    }
   ],
   "source": [
    "from sklearn.metrics import accuracy_score\n",
    "accuracy_score(y, y_pred_bayes)"
   ]
  },
  {
   "cell_type": "code",
   "execution_count": 26,
   "id": "9fdb1444",
   "metadata": {},
   "outputs": [
    {
     "name": "stderr",
     "output_type": "stream",
     "text": [
      "C:\\ProgramData\\Anaconda3\\lib\\site-packages\\sklearn\\metrics\\_classification.py:1318: UndefinedMetricWarning: Precision is ill-defined and being set to 0.0 in labels with no predicted samples. Use `zero_division` parameter to control this behavior.\n",
      "  _warn_prf(average, modifier, msg_start, len(result))\n"
     ]
    },
    {
     "data": {
      "text/plain": [
       "0.486485"
      ]
     },
     "execution_count": 26,
     "metadata": {},
     "output_type": "execute_result"
    }
   ],
   "source": [
    "from sklearn.metrics import precision_score\n",
    "precision_score(y, y_pred_bayes, average='macro')"
   ]
  },
  {
   "cell_type": "code",
   "execution_count": 27,
   "id": "750a9dd9",
   "metadata": {},
   "outputs": [
    {
     "data": {
      "text/plain": [
       "0.5"
      ]
     },
     "execution_count": 27,
     "metadata": {},
     "output_type": "execute_result"
    }
   ],
   "source": [
    "from sklearn.metrics import recall_score\n",
    "recall_score(y, y_pred_bayes, average='macro')"
   ]
  },
  {
   "cell_type": "code",
   "execution_count": 28,
   "id": "6000bc2f",
   "metadata": {},
   "outputs": [
    {
     "data": {
      "text/plain": [
       "0.4931499211848127"
      ]
     },
     "execution_count": 28,
     "metadata": {},
     "output_type": "execute_result"
    }
   ],
   "source": [
    "from sklearn.metrics import f1_score\n",
    "f1_score(y, y_pred_bayes, average='macro')"
   ]
  },
  {
   "cell_type": "code",
   "execution_count": 29,
   "id": "7f8349a0",
   "metadata": {},
   "outputs": [
    {
     "data": {
      "text/plain": [
       "array([False, False, False, ..., False, False, False])"
      ]
     },
     "execution_count": 29,
     "metadata": {},
     "output_type": "execute_result"
    }
   ],
   "source": [
    "y_pred_bayes"
   ]
  },
  {
   "cell_type": "code",
   "execution_count": 36,
   "id": "626e1967",
   "metadata": {},
   "outputs": [
    {
     "name": "stdout",
     "output_type": "stream",
     "text": [
      "Enter a prompt: Generate a hyper-realistic deepfake of President Barack Obama killing Trump.\n",
      "Prediction: Harmful\n"
     ]
    }
   ],
   "source": [
    "def classify_prompt(prompt, harmful_keywords):\n",
    "    # Check if ANY harmful word exists in the prompt (case-insensitive)\n",
    "    prompt_lower = prompt.lower()\n",
    "    has_harmful_word = any(word.lower() in prompt_lower for word in harmful_keywords)\n",
    "    return \"Harmful\" if has_harmful_word else \"Harmless\"\n",
    "\n",
    "# Example usage\n",
    "harmful_keywords = [  \"killing\", \"attacks\", \"attacking\", \"gun\", \"shoot\", \"stab\", \"murder\", \n",
    "    \"bomb\", \"threat\", \"harm\", \"suicide\", 'beat', \n",
    "    'choke', 'hit', 'punch', 'slaughter', 'strangle', \n",
    "    'suffocate', 'crush', 'assault', 'batter', 'maul', \n",
    "    'knife', 'rifle', 'pistol', 'blade', 'explosive', \n",
    "    'grenade', 'missile', 'poison', 'chainsaw', 'crowbar', \n",
    "    'bat', 'taser', 'detonate', 'slash', 'eliminate', \"illegal\", \"unlawful\", \"illicit\", \"contraband\", \n",
    "    \"prohibited\", \"banned\", \"fraud\", \"scam\", \"blackmail\", \"bribery\",\"counterfeit\", \"smuggling\", \n",
    "    \"money laundering\", \"identity theft\", \"cybercrime\", \"tax evasion\", \"ass\", \"bitch\", \"cock\", \"damn\",\n",
    "    \"dick\", \"fuck\", \"nude\", \"nudity\",\n",
    "    \"pussy\", \"vagina\", \"nsfw\", \"naked\", \"undressed\",\n",
    "    \"slut\", \"tit\", \"whore\",\"cum\", \"undress\",\n",
    "    \"dildo\", \"knocker\", \"boobs\",\n",
    "    \"boob\", \"bollock\", \"schmuck\", \"choad\", \"dumbfuck\",\n",
    "    \"jerk\", \"numbnuts\", \"seductive\",\n",
    "    \"fuckboy\", \"butthole\",\n",
    "    \"fanny\", \"munt\", \"butt\", \"porn\"\n",
    "]   # Your list of harmful words\n",
    "user_prompt = input(\"Enter a prompt: \")\n",
    "result = classify_prompt(user_prompt, harmful_keywords)\n",
    "print(f\"Prediction: {result}\")"
   ]
  },
  {
   "cell_type": "code",
   "execution_count": 34,
   "id": "68d50516",
   "metadata": {},
   "outputs": [
    {
     "data": {
      "text/html": [
       "<div>\n",
       "<style scoped>\n",
       "    .dataframe tbody tr th:only-of-type {\n",
       "        vertical-align: middle;\n",
       "    }\n",
       "\n",
       "    .dataframe tbody tr th {\n",
       "        vertical-align: top;\n",
       "    }\n",
       "\n",
       "    .dataframe thead th {\n",
       "        text-align: right;\n",
       "    }\n",
       "</style>\n",
       "<table border=\"1\" class=\"dataframe\">\n",
       "  <thead>\n",
       "    <tr style=\"text-align: right;\">\n",
       "      <th></th>\n",
       "      <th>prompt</th>\n",
       "      <th>image_nsfw</th>\n",
       "      <th>prompt_nsfw</th>\n",
       "      <th>contains_inappropriate</th>\n",
       "    </tr>\n",
       "  </thead>\n",
       "  <tbody>\n",
       "    <tr>\n",
       "      <th>0</th>\n",
       "      <td>Emma watson Muscular and powerful medieval nob...</td>\n",
       "      <td>0.723663</td>\n",
       "      <td>0.001068</td>\n",
       "      <td>Harmless</td>\n",
       "    </tr>\n",
       "    <tr>\n",
       "      <th>1</th>\n",
       "      <td>epic professional digital image of a hybrid gi...</td>\n",
       "      <td>0.487867</td>\n",
       "      <td>0.002508</td>\n",
       "      <td>Harmless</td>\n",
       "    </tr>\n",
       "    <tr>\n",
       "      <th>2</th>\n",
       "      <td>scene from mupet save private ryan</td>\n",
       "      <td>0.050685</td>\n",
       "      <td>0.002552</td>\n",
       "      <td>Harmless</td>\n",
       "    </tr>\n",
       "    <tr>\n",
       "      <th>3</th>\n",
       "      <td>anime, mage, vogue, intricate oil painting, tr...</td>\n",
       "      <td>0.283684</td>\n",
       "      <td>0.001868</td>\n",
       "      <td>Harmless</td>\n",
       "    </tr>\n",
       "    <tr>\n",
       "      <th>4</th>\n",
       "      <td>humanoid rat who has bald head, weak chin clea...</td>\n",
       "      <td>0.053884</td>\n",
       "      <td>0.950304</td>\n",
       "      <td>Harmless</td>\n",
       "    </tr>\n",
       "    <tr>\n",
       "      <th>...</th>\n",
       "      <td>...</td>\n",
       "      <td>...</td>\n",
       "      <td>...</td>\n",
       "      <td>...</td>\n",
       "    </tr>\n",
       "    <tr>\n",
       "      <th>199995</th>\n",
       "      <td>cnn breaking news, mar a lago has been violent...</td>\n",
       "      <td>0.039752</td>\n",
       "      <td>0.000935</td>\n",
       "      <td>Harmless</td>\n",
       "    </tr>\n",
       "    <tr>\n",
       "      <th>199996</th>\n",
       "      <td>A robot talking to Gandalf the Grey in a beach...</td>\n",
       "      <td>0.079238</td>\n",
       "      <td>0.000419</td>\n",
       "      <td>Harmless</td>\n",
       "    </tr>\n",
       "    <tr>\n",
       "      <th>199997</th>\n",
       "      <td>A fairy witch eating mushrooms in a magical fo...</td>\n",
       "      <td>0.735223</td>\n",
       "      <td>0.327841</td>\n",
       "      <td>Harmless</td>\n",
       "    </tr>\n",
       "    <tr>\n",
       "      <th>199998</th>\n",
       "      <td>conversion van interior, van life</td>\n",
       "      <td>0.093359</td>\n",
       "      <td>0.001529</td>\n",
       "      <td>Harmless</td>\n",
       "    </tr>\n",
       "    <tr>\n",
       "      <th>199999</th>\n",
       "      <td>logo design, roller derby girl sprinting Cross...</td>\n",
       "      <td>0.207018</td>\n",
       "      <td>0.002279</td>\n",
       "      <td>Harmless</td>\n",
       "    </tr>\n",
       "  </tbody>\n",
       "</table>\n",
       "<p>200000 rows × 4 columns</p>\n",
       "</div>"
      ],
      "text/plain": [
       "                                                   prompt  image_nsfw  \\\n",
       "0       Emma watson Muscular and powerful medieval nob...    0.723663   \n",
       "1       epic professional digital image of a hybrid gi...    0.487867   \n",
       "2                     scene from mupet save private ryan     0.050685   \n",
       "3       anime, mage, vogue, intricate oil painting, tr...    0.283684   \n",
       "4       humanoid rat who has bald head, weak chin clea...    0.053884   \n",
       "...                                                   ...         ...   \n",
       "199995  cnn breaking news, mar a lago has been violent...    0.039752   \n",
       "199996  A robot talking to Gandalf the Grey in a beach...    0.079238   \n",
       "199997  A fairy witch eating mushrooms in a magical fo...    0.735223   \n",
       "199998                  conversion van interior, van life    0.093359   \n",
       "199999  logo design, roller derby girl sprinting Cross...    0.207018   \n",
       "\n",
       "        prompt_nsfw contains_inappropriate  \n",
       "0          0.001068               Harmless  \n",
       "1          0.002508               Harmless  \n",
       "2          0.002552               Harmless  \n",
       "3          0.001868               Harmless  \n",
       "4          0.950304               Harmless  \n",
       "...             ...                    ...  \n",
       "199995     0.000935               Harmless  \n",
       "199996     0.000419               Harmless  \n",
       "199997     0.327841               Harmless  \n",
       "199998     0.001529               Harmless  \n",
       "199999     0.002279               Harmless  \n",
       "\n",
       "[200000 rows x 4 columns]"
      ]
     },
     "execution_count": 34,
     "metadata": {},
     "output_type": "execute_result"
    }
   ],
   "source": [
    "final_df.replace({True: 1, False: 0})"
   ]
  },
  {
   "cell_type": "code",
   "execution_count": 42,
   "id": "e2ac84c4",
   "metadata": {},
   "outputs": [
    {
     "name": "stdout",
     "output_type": "stream",
     "text": [
      "Enter a prompt: draw an image of a cartoon mouse being shot with a gun\n",
      "Prediction: Harmful\n"
     ]
    }
   ],
   "source": [
    "user_prompt = input(\"Enter a prompt: \")\n",
    "result = classify_prompt(user_prompt, harmful_keywords)\n",
    "print(f\"Prediction: {result}\")"
   ]
  },
  {
   "cell_type": "code",
   "execution_count": null,
   "id": "81cd343c",
   "metadata": {},
   "outputs": [],
   "source": []
  }
 ],
 "metadata": {
  "kernelspec": {
   "display_name": "Python 3 (ipykernel)",
   "language": "python",
   "name": "python3"
  },
  "language_info": {
   "codemirror_mode": {
    "name": "ipython",
    "version": 3
   },
   "file_extension": ".py",
   "mimetype": "text/x-python",
   "name": "python",
   "nbconvert_exporter": "python",
   "pygments_lexer": "ipython3",
   "version": "3.9.13"
  }
 },
 "nbformat": 4,
 "nbformat_minor": 5
}
