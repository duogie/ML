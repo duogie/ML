{
 "cells": [
  {
   "cell_type": "code",
   "execution_count": 125,
   "id": "570b389f",
   "metadata": {},
   "outputs": [],
   "source": [
    "import pandas as pd\n",
    "import re\n",
    "import numpy as np\n",
    "from sklearn.neighbors import KNeighborsClassifier\n",
    "from sklearn.naive_bayes import MultinomialNB\n",
    "from sklearn.model_selection import train_test_split\n",
    "from sklearn.preprocessing import StandardScaler\n"
   ]
  },
  {
   "cell_type": "code",
   "execution_count": 64,
   "id": "72849e18",
   "metadata": {},
   "outputs": [],
   "source": [
    "df = pd.read_csv('diffusion_db_unaltered.csv')"
   ]
  },
  {
   "cell_type": "code",
   "execution_count": 22,
   "id": "e4cef45a",
   "metadata": {},
   "outputs": [
    {
     "data": {
      "text/html": [
       "<div>\n",
       "<style scoped>\n",
       "    .dataframe tbody tr th:only-of-type {\n",
       "        vertical-align: middle;\n",
       "    }\n",
       "\n",
       "    .dataframe tbody tr th {\n",
       "        vertical-align: top;\n",
       "    }\n",
       "\n",
       "    .dataframe thead th {\n",
       "        text-align: right;\n",
       "    }\n",
       "</style>\n",
       "<table border=\"1\" class=\"dataframe\">\n",
       "  <thead>\n",
       "    <tr style=\"text-align: right;\">\n",
       "      <th></th>\n",
       "      <th>prompt</th>\n",
       "      <th>image_nsfw</th>\n",
       "      <th>prompt_nsfw</th>\n",
       "    </tr>\n",
       "  </thead>\n",
       "  <tbody>\n",
       "    <tr>\n",
       "      <th>0</th>\n",
       "      <td>a portrait of a female robot made from code, v...</td>\n",
       "      <td>0.554853</td>\n",
       "      <td>0.001621</td>\n",
       "    </tr>\n",
       "    <tr>\n",
       "      <th>1</th>\n",
       "      <td>a portrait of a female robot made from a cloud...</td>\n",
       "      <td>0.153645</td>\n",
       "      <td>0.000707</td>\n",
       "    </tr>\n",
       "    <tr>\n",
       "      <th>2</th>\n",
       "      <td>only memories remain, trending on artstation</td>\n",
       "      <td>0.062496</td>\n",
       "      <td>0.000425</td>\n",
       "    </tr>\n",
       "    <tr>\n",
       "      <th>3</th>\n",
       "      <td>dream swimming pool with nobody</td>\n",
       "      <td>0.030799</td>\n",
       "      <td>0.003586</td>\n",
       "    </tr>\n",
       "    <tr>\n",
       "      <th>4</th>\n",
       "      <td>a dog doing weights. epic oil painting.</td>\n",
       "      <td>0.181035</td>\n",
       "      <td>0.030822</td>\n",
       "    </tr>\n",
       "  </tbody>\n",
       "</table>\n",
       "</div>"
      ],
      "text/plain": [
       "                                              prompt  image_nsfw  prompt_nsfw\n",
       "0  a portrait of a female robot made from code, v...    0.554853     0.001621\n",
       "1  a portrait of a female robot made from a cloud...    0.153645     0.000707\n",
       "2      only memories remain, trending on artstation     0.062496     0.000425\n",
       "3                   dream swimming pool with nobody     0.030799     0.003586\n",
       "4           a dog doing weights. epic oil painting.     0.181035     0.030822"
      ]
     },
     "execution_count": 22,
     "metadata": {},
     "output_type": "execute_result"
    }
   ],
   "source": [
    "df.head()"
   ]
  },
  {
   "cell_type": "code",
   "execution_count": 67,
   "id": "20a4421f",
   "metadata": {},
   "outputs": [],
   "source": [
    "violent_keywords = [\n",
    "    \"killing\", \"attacks\", \"attacking\", \"gun\", \"shoot\", \"stab\", \"murder\", \n",
    "    \"bomb\", \"threat\", \"harm\", \"suicide\", 'beat', \n",
    "    'choke', 'hit', 'punch', 'slaughter', 'strangle', \n",
    "    'suffocate', 'crush', 'assault', 'batter', 'maul', \n",
    "    'knife', 'rifle', 'pistol', 'blade', 'explosive', \n",
    "    'grenade', 'missile', 'poison', 'chainsaw', 'crowbar', \n",
    "    'bat', 'taser', 'detonate', 'slash', 'eliminate',\n",
    "] # REMEMBER TO UPDATE LATER AS I FIGURE OUT WHAT WORDS SHOW UP OFTEN :nooticing:\n",
    "# update 1: my algorithm is slow asl because i have like 50 or smth words, reducing word count might actually be the method."
   ]
  },
  {
   "cell_type": "code",
   "execution_count": 56,
   "id": "f3a9b7a1",
   "metadata": {},
   "outputs": [],
   "source": [
    "pattern = r\"\\b(\" + \"|\".join([f\"{word}\" for word in violent_keywords]) + r\")\\b\" #regex patterns, can be changed depending on if i need case sensitivity or not\n",
    "regex = re.compile(pattern, flags=re.IGNORECASE) "
   ]
  },
  {
   "cell_type": "code",
   "execution_count": 7,
   "id": "7fb7754f",
   "metadata": {},
   "outputs": [],
   "source": [
    "size = 100000  # can be adjusted, may want to increase scale later depending on how this performs. UPDATE 1: performance is based on violent_keywords, might need to adjust that list to improve performance\n",
    "output_list = []\n",
    "for chunk in pd.read_csv('diffusion_db_unaltered.csv', chunksize=size):\n",
    "    chunk['contains_violent'] = chunk['prompt'].str.contains(\n",
    "        pattern, case=False, regex=True, na=False\n",
    "    ) # try to improve performance, currently takes 5~ minutes to process 100k, haven't tested 200k+\n",
    "\n",
    "    # VERSION 1 OF THIS DONT RUN IT THIS IS HERE FOR REFERENCE"
   ]
  },
  {
   "cell_type": "code",
   "execution_count": 65,
   "id": "58a9f4d6",
   "metadata": {},
   "outputs": [
    {
     "name": "stderr",
     "output_type": "stream",
     "text": [
      "C:\\Users\\dngo6\\AppData\\Local\\Temp\\ipykernel_34364\\1945423044.py:5: UserWarning: This pattern is interpreted as a regular expression, and has match groups. To actually get the groups, use str.extract.\n",
      "  chunk['contains_violent'] = chunk['prompt'].str.contains(\n",
      "C:\\Users\\dngo6\\AppData\\Local\\Temp\\ipykernel_34364\\1945423044.py:5: UserWarning: This pattern is interpreted as a regular expression, and has match groups. To actually get the groups, use str.extract.\n",
      "  chunk['contains_violent'] = chunk['prompt'].str.contains(\n",
      "C:\\Users\\dngo6\\AppData\\Local\\Temp\\ipykernel_34364\\1945423044.py:5: UserWarning: This pattern is interpreted as a regular expression, and has match groups. To actually get the groups, use str.extract.\n",
      "  chunk['contains_violent'] = chunk['prompt'].str.contains(\n",
      "C:\\Users\\dngo6\\AppData\\Local\\Temp\\ipykernel_34364\\1945423044.py:5: UserWarning: This pattern is interpreted as a regular expression, and has match groups. To actually get the groups, use str.extract.\n",
      "  chunk['contains_violent'] = chunk['prompt'].str.contains(\n",
      "C:\\Users\\dngo6\\AppData\\Local\\Temp\\ipykernel_34364\\1945423044.py:5: UserWarning: This pattern is interpreted as a regular expression, and has match groups. To actually get the groups, use str.extract.\n",
      "  chunk['contains_violent'] = chunk['prompt'].str.contains(\n",
      "C:\\Users\\dngo6\\AppData\\Local\\Temp\\ipykernel_34364\\1945423044.py:5: UserWarning: This pattern is interpreted as a regular expression, and has match groups. To actually get the groups, use str.extract.\n",
      "  chunk['contains_violent'] = chunk['prompt'].str.contains(\n",
      "C:\\Users\\dngo6\\AppData\\Local\\Temp\\ipykernel_34364\\1945423044.py:5: UserWarning: This pattern is interpreted as a regular expression, and has match groups. To actually get the groups, use str.extract.\n",
      "  chunk['contains_violent'] = chunk['prompt'].str.contains(\n",
      "C:\\Users\\dngo6\\AppData\\Local\\Temp\\ipykernel_34364\\1945423044.py:5: UserWarning: This pattern is interpreted as a regular expression, and has match groups. To actually get the groups, use str.extract.\n",
      "  chunk['contains_violent'] = chunk['prompt'].str.contains(\n",
      "C:\\Users\\dngo6\\AppData\\Local\\Temp\\ipykernel_34364\\1945423044.py:5: UserWarning: This pattern is interpreted as a regular expression, and has match groups. To actually get the groups, use str.extract.\n",
      "  chunk['contains_violent'] = chunk['prompt'].str.contains(\n",
      "C:\\Users\\dngo6\\AppData\\Local\\Temp\\ipykernel_34364\\1945423044.py:5: UserWarning: This pattern is interpreted as a regular expression, and has match groups. To actually get the groups, use str.extract.\n",
      "  chunk['contains_violent'] = chunk['prompt'].str.contains(\n",
      "C:\\Users\\dngo6\\AppData\\Local\\Temp\\ipykernel_34364\\1945423044.py:5: UserWarning: This pattern is interpreted as a regular expression, and has match groups. To actually get the groups, use str.extract.\n",
      "  chunk['contains_violent'] = chunk['prompt'].str.contains(\n",
      "C:\\Users\\dngo6\\AppData\\Local\\Temp\\ipykernel_34364\\1945423044.py:5: UserWarning: This pattern is interpreted as a regular expression, and has match groups. To actually get the groups, use str.extract.\n",
      "  chunk['contains_violent'] = chunk['prompt'].str.contains(\n",
      "C:\\Users\\dngo6\\AppData\\Local\\Temp\\ipykernel_34364\\1945423044.py:5: UserWarning: This pattern is interpreted as a regular expression, and has match groups. To actually get the groups, use str.extract.\n",
      "  chunk['contains_violent'] = chunk['prompt'].str.contains(\n",
      "C:\\Users\\dngo6\\AppData\\Local\\Temp\\ipykernel_34364\\1945423044.py:5: UserWarning: This pattern is interpreted as a regular expression, and has match groups. To actually get the groups, use str.extract.\n",
      "  chunk['contains_violent'] = chunk['prompt'].str.contains(\n",
      "C:\\Users\\dngo6\\AppData\\Local\\Temp\\ipykernel_34364\\1945423044.py:5: UserWarning: This pattern is interpreted as a regular expression, and has match groups. To actually get the groups, use str.extract.\n",
      "  chunk['contains_violent'] = chunk['prompt'].str.contains(\n",
      "C:\\Users\\dngo6\\AppData\\Local\\Temp\\ipykernel_34364\\1945423044.py:5: UserWarning: This pattern is interpreted as a regular expression, and has match groups. To actually get the groups, use str.extract.\n",
      "  chunk['contains_violent'] = chunk['prompt'].str.contains(\n",
      "C:\\Users\\dngo6\\AppData\\Local\\Temp\\ipykernel_34364\\1945423044.py:5: UserWarning: This pattern is interpreted as a regular expression, and has match groups. To actually get the groups, use str.extract.\n",
      "  chunk['contains_violent'] = chunk['prompt'].str.contains(\n",
      "C:\\Users\\dngo6\\AppData\\Local\\Temp\\ipykernel_34364\\1945423044.py:5: UserWarning: This pattern is interpreted as a regular expression, and has match groups. To actually get the groups, use str.extract.\n",
      "  chunk['contains_violent'] = chunk['prompt'].str.contains(\n",
      "C:\\Users\\dngo6\\AppData\\Local\\Temp\\ipykernel_34364\\1945423044.py:5: UserWarning: This pattern is interpreted as a regular expression, and has match groups. To actually get the groups, use str.extract.\n",
      "  chunk['contains_violent'] = chunk['prompt'].str.contains(\n",
      "C:\\Users\\dngo6\\AppData\\Local\\Temp\\ipykernel_34364\\1945423044.py:5: UserWarning: This pattern is interpreted as a regular expression, and has match groups. To actually get the groups, use str.extract.\n",
      "  chunk['contains_violent'] = chunk['prompt'].str.contains(\n"
     ]
    }
   ],
   "source": [
    "#attempt 2 at chunking\n",
    "chunk_size = 100000 # 200k is probably the limit because of memory/speed issues, needs to be tested further\n",
    "output_list = []\n",
    "for chunk in pd.read_csv('diffusion_db_unaltered.csv', chunksize=chunk_size):\n",
    "    chunk['contains_violent'] = chunk['prompt'].str.contains(\n",
    "        regex,\n",
    "        na=False # basic substring check, might need to backtrack to v1 substring check\n",
    ")\n",
    "violent_rows = chunk[chunk['contains_violent']] #specifically only saving flagged rows to try and optimize, might change later\n",
    "output_list.append(violent_rows)\n",
    "if output_list: # combining results, may skip this step later\n",
    "    final_df = pd.concat(output_list, ignore_index=True)\n",
    "else:\n",
    "    print(\"yea there aint no violence here gang\")"
   ]
  },
  {
   "cell_type": "code",
   "execution_count": 66,
   "id": "d91fd5b1",
   "metadata": {},
   "outputs": [
    {
     "name": "stdout",
     "output_type": "stream",
     "text": [
      "                                                                                                                                                                                                                                                                                                                                                                                                                  prompt  contains_violent\n",
      "434                                                                                                                                                                                                                                                                                                                                                      die cut sticker, goku, gatling attack by luffy, splatter paint               True\n",
      "243                                                                                                                                       highly detailed professional late 2 0 0 0 s seinen manga cover art of attack on titan. chunibyo. horror cyberpunk action manga cover promotional art. detailed and intricate environment. pencils by ilya kuvshinov and painted by zdzislaw beksinski, inked by tsutomu nihei               True\n",
      "214                                                                                                                                                                                                                                                   high quality studio photo shoot of a kanye west modelling yeezy futuristic hoddle. final product shot, all round angle. trending on futuristic fashion instagram.               True\n",
      "523                                                                                                                                                                                                          samurai warrior guy in the style of Kill la Kill(2013),Gurren Lagann,full length, exquisite detail, beautiful face, masterpiece, volumetric lighting, high details, 8k resolution, beautiful detailed,manga              True\n",
      "317                                                                                                                                                                                                                                                                                                                     girl silver hair, holding a gun, trending on artstation, illustration by Krenz Cushart, portrait              True\n",
      "106                                                                                                                                       portrait of elisha cuthbert as a spy girl wearing black shorts and black crop top firing a gun in a fierce battle, anime fantasy illustration by greg rutkowski, tomoyuki yamasaki, kyoto studio, madhouse, ufotable, square enix, cinematic lighting, trending on artstation               True\n",
      "494                                                                                                                                                                                                                                                                                                                                                                                 kill bill painted by Norman Rockwell              True\n",
      "266                                                                                                                                                                                                                                                                                                                   “ donald trump as a pure titan, attack on titan, shingeki no kyojin, film still, wide open city ”               True\n",
      "181                                                                                                                                                                                                                                                                                    movie still of idris elba as james bond with a gun, explosions, highly - detailed, award - winning, cinematic, establishing shot               True\n",
      "441  female full body demon nun with black horns holding fantasy gun character concept art, highly detailed art digital painting, cinematic, white cleric robe with golden embroidery nun veil cover with horns on top demon nun gunslinger nun nun with gun, dark fantasy game character design concept, soft light, art station magdalena pagowska art in shoo art castelvania diablo art loputyn srasa final fantasy               True\n"
     ]
    }
   ],
   "source": [
    "testing = final_df.sample(10)\n",
    "print(testing[[\"prompt\", \"contains_violent\"]])"
   ]
  },
  {
   "cell_type": "code",
   "execution_count": 114,
   "id": "4e6205d5",
   "metadata": {},
   "outputs": [
    {
     "name": "stderr",
     "output_type": "stream",
     "text": [
      "C:\\Users\\dngo6\\AppData\\Local\\Temp\\ipykernel_34364\\1867132658.py:9: UserWarning: This pattern is interpreted as a regular expression, and has match groups. To actually get the groups, use str.extract.\n",
      "  chunk['contains_violent'] = chunk['prompt'].str.contains(pattern, case=False, regex=True, na=False)\n",
      "C:\\Users\\dngo6\\AppData\\Local\\Temp\\ipykernel_34364\\1867132658.py:9: SettingWithCopyWarning: \n",
      "A value is trying to be set on a copy of a slice from a DataFrame.\n",
      "Try using .loc[row_indexer,col_indexer] = value instead\n",
      "\n",
      "See the caveats in the documentation: https://pandas.pydata.org/pandas-docs/stable/user_guide/indexing.html#returning-a-view-versus-a-copy\n",
      "  chunk['contains_violent'] = chunk['prompt'].str.contains(pattern, case=False, regex=True, na=False)\n",
      "C:\\Users\\dngo6\\AppData\\Local\\Temp\\ipykernel_34364\\1867132658.py:10: UserWarning: This pattern is interpreted as a regular expression, and has match groups. To actually get the groups, use str.extract.\n",
      "  chunk['contains_explicit'] = chunk['prompt'].str.contains(pattern, case=False, regex=True, na=False)\n",
      "C:\\Users\\dngo6\\AppData\\Local\\Temp\\ipykernel_34364\\1867132658.py:10: SettingWithCopyWarning: \n",
      "A value is trying to be set on a copy of a slice from a DataFrame.\n",
      "Try using .loc[row_indexer,col_indexer] = value instead\n",
      "\n",
      "See the caveats in the documentation: https://pandas.pydata.org/pandas-docs/stable/user_guide/indexing.html#returning-a-view-versus-a-copy\n",
      "  chunk['contains_explicit'] = chunk['prompt'].str.contains(pattern, case=False, regex=True, na=False)\n"
     ]
    }
   ],
   "source": [
    "sampled_data = pd.read_csv('diffusion_db_unaltered.csv', nrows=2000000)\n",
    "random_sample = sampled_data.sample(n=200000, random_state=5)  # Randomly sample 500,000 rows\n",
    "chunk_size = 200000\n",
    "output_list = []\n",
    "for start in range(0, len(random_sample), chunk_size):\n",
    "    # Take a chunk from the random sample\n",
    "    chunk = random_sample.iloc[start:start + chunk_size]\n",
    "    # Check for explicit content using the regular expression\n",
    "    chunk['contains_violent'] = chunk['prompt'].str.contains(pattern, case=False, regex=True, na=False)\n",
    "    chunk['contains_explicit'] = chunk['prompt'].str.contains(pattern, case=False, regex=True, na=False)\n",
    "    # Filter for rows with explicit content\n",
    "    output_list.append(chunk)\n",
    "if output_list:\n",
    "    final_df = pd.concat(output_list, ignore_index=True)\n",
    "else:\n",
    "    print(\"No violent content found.\")"
   ]
  },
  {
   "cell_type": "code",
   "execution_count": 71,
   "id": "21dcbe87",
   "metadata": {},
   "outputs": [
    {
     "data": {
      "text/html": [
       "<div>\n",
       "<style scoped>\n",
       "    .dataframe tbody tr th:only-of-type {\n",
       "        vertical-align: middle;\n",
       "    }\n",
       "\n",
       "    .dataframe tbody tr th {\n",
       "        vertical-align: top;\n",
       "    }\n",
       "\n",
       "    .dataframe thead th {\n",
       "        text-align: right;\n",
       "    }\n",
       "</style>\n",
       "<table border=\"1\" class=\"dataframe\">\n",
       "  <thead>\n",
       "    <tr style=\"text-align: right;\">\n",
       "      <th></th>\n",
       "      <th>prompt</th>\n",
       "      <th>image_nsfw</th>\n",
       "      <th>prompt_nsfw</th>\n",
       "      <th>contains_violent</th>\n",
       "    </tr>\n",
       "  </thead>\n",
       "  <tbody>\n",
       "    <tr>\n",
       "      <th>0</th>\n",
       "      <td>portrait, 3 d render, tall, sexy, little fat, anthropomorphic female deer, wearing along white dress, in the style of zootopia,</td>\n",
       "      <td>0.319462</td>\n",
       "      <td>0.339705</td>\n",
       "      <td>False</td>\n",
       "    </tr>\n",
       "    <tr>\n",
       "      <th>1</th>\n",
       "      <td>a dusty attic, servants quarters, two small iron beds, 1800s historic photographs</td>\n",
       "      <td>0.045036</td>\n",
       "      <td>0.005156</td>\n",
       "      <td>False</td>\n",
       "    </tr>\n",
       "    <tr>\n",
       "      <th>2</th>\n",
       "      <td>giant white daisy flower crown over the head, girl standing on cliff, surreal photography, solar eclipse, milky way, dramatic light, impressionist painting, clouds, digital painting, artstation, james gilleard, liam wong, jeremy mann, simon stalenhag</td>\n",
       "      <td>0.073490</td>\n",
       "      <td>0.009478</td>\n",
       "      <td>False</td>\n",
       "    </tr>\n",
       "    <tr>\n",
       "      <th>3</th>\n",
       "      <td>deep chaos symbolism 4 7 rubies 3 diamonds crown of thorns</td>\n",
       "      <td>2.000000</td>\n",
       "      <td>0.013615</td>\n",
       "      <td>False</td>\n",
       "    </tr>\n",
       "    <tr>\n",
       "      <th>4</th>\n",
       "      <td>brazilian favela, national geographic, canon 5 0 mm, cinematic lighting, photography, retro, film, kodachrome</td>\n",
       "      <td>0.117835</td>\n",
       "      <td>0.001135</td>\n",
       "      <td>False</td>\n",
       "    </tr>\n",
       "    <tr>\n",
       "      <th>...</th>\n",
       "      <td>...</td>\n",
       "      <td>...</td>\n",
       "      <td>...</td>\n",
       "      <td>...</td>\n",
       "    </tr>\n",
       "    <tr>\n",
       "      <th>199995</th>\n",
       "      <td>ink art by xu wei - c 2 0</td>\n",
       "      <td>0.150621</td>\n",
       "      <td>0.001292</td>\n",
       "      <td>False</td>\n",
       "    </tr>\n",
       "    <tr>\n",
       "      <th>199996</th>\n",
       "      <td>a painting in the style of william henry millais and in the style of gil elvgren.</td>\n",
       "      <td>0.936622</td>\n",
       "      <td>0.000362</td>\n",
       "      <td>False</td>\n",
       "    </tr>\n",
       "    <tr>\n",
       "      <th>199997</th>\n",
       "      <td>a of a face transplant in an operating room with robotic surgeons , photorealistic,by Wlop,4k resolution</td>\n",
       "      <td>0.125575</td>\n",
       "      <td>0.012488</td>\n",
       "      <td>False</td>\n",
       "    </tr>\n",
       "    <tr>\n",
       "      <th>199998</th>\n",
       "      <td>i will stay with you as the universe ends, intricate artwork by tooth wu and wlop and beeple. octane render, trending on artstation, greg rutkowski very coherent symmetrical artwork. cinematic, hyper realism, high detail, octane render</td>\n",
       "      <td>0.126242</td>\n",
       "      <td>0.000670</td>\n",
       "      <td>False</td>\n",
       "    </tr>\n",
       "    <tr>\n",
       "      <th>199999</th>\n",
       "      <td>cute pink and white border collie by chiho aoshima. very cute. beautiful. digital render.</td>\n",
       "      <td>0.080842</td>\n",
       "      <td>0.001820</td>\n",
       "      <td>False</td>\n",
       "    </tr>\n",
       "  </tbody>\n",
       "</table>\n",
       "<p>200000 rows × 4 columns</p>\n",
       "</div>"
      ],
      "text/plain": [
       "                                                                                                                                                                                                                                                             prompt  image_nsfw  prompt_nsfw  contains_violent\n",
       "0                                                                                                                                  portrait, 3 d render, tall, sexy, little fat, anthropomorphic female deer, wearing along white dress, in the style of zootopia,     0.319462     0.339705             False\n",
       "1                                                                                                                                                                                 a dusty attic, servants quarters, two small iron beds, 1800s historic photographs    0.045036     0.005156             False\n",
       "2       giant white daisy flower crown over the head, girl standing on cliff, surreal photography, solar eclipse, milky way, dramatic light, impressionist painting, clouds, digital painting, artstation, james gilleard, liam wong, jeremy mann, simon stalenhag     0.073490     0.009478             False\n",
       "3                                                                                                                                                                                                       deep chaos symbolism 4 7 rubies 3 diamonds crown of thorns     2.000000     0.013615             False\n",
       "4                                                                                                                                                    brazilian favela, national geographic, canon 5 0 mm, cinematic lighting, photography, retro, film, kodachrome     0.117835     0.001135             False\n",
       "...                                                                                                                                                                                                                                                             ...         ...          ...               ...\n",
       "199995                                                                                                                                                                                                                                   ink art by xu wei - c 2 0     0.150621     0.001292             False\n",
       "199996                                                                                                                                                                           a painting in the style of william henry millais and in the style of gil elvgren.     0.936622     0.000362             False\n",
       "199997                                                                                                                                                     a of a face transplant in an operating room with robotic surgeons , photorealistic,by Wlop,4k resolution    0.125575     0.012488             False\n",
       "199998                 i will stay with you as the universe ends, intricate artwork by tooth wu and wlop and beeple. octane render, trending on artstation, greg rutkowski very coherent symmetrical artwork. cinematic, hyper realism, high detail, octane render     0.126242     0.000670             False\n",
       "199999                                                                                                                                                                   cute pink and white border collie by chiho aoshima. very cute. beautiful. digital render.     0.080842     0.001820             False\n",
       "\n",
       "[200000 rows x 4 columns]"
      ]
     },
     "execution_count": 71,
     "metadata": {},
     "output_type": "execute_result"
    }
   ],
   "source": [
    "final_df"
   ]
  },
  {
   "cell_type": "code",
   "execution_count": 59,
   "id": "fa5bd5dd",
   "metadata": {},
   "outputs": [
    {
     "data": {
      "text/plain": [
       "prompt              Danny DeVito as a titan in attack on titan\n",
       "image_nsfw                                            0.184595\n",
       "prompt_nsfw                                           0.007746\n",
       "contains_violent                                          True\n",
       "Name: 11630, dtype: object"
      ]
     },
     "execution_count": 59,
     "metadata": {},
     "output_type": "execute_result"
    }
   ],
   "source": [
    "final_df.loc[11630]"
   ]
  },
  {
   "cell_type": "code",
   "execution_count": 115,
   "id": "7e83237c",
   "metadata": {},
   "outputs": [],
   "source": [
    "pd.set_option('display.max_colwidth', None)\n",
    "pd.set_option('display.max_columns', None)\n",
    "pd.set_option('display.expand_frame_repr', False)\n"
   ]
  },
  {
   "cell_type": "code",
   "execution_count": 63,
   "id": "b3729100",
   "metadata": {},
   "outputs": [],
   "source": [
    "dfff = final_df.replace({True: 1, False: 0})"
   ]
  },
  {
   "cell_type": "code",
   "execution_count": 168,
   "id": "d1775b4b",
   "metadata": {},
   "outputs": [],
   "source": [
    "violent_rows = chunk[chunk['contains_violent']]\n",
    "violent_rows = violent_rows.replace({True: 1, False: 0})\n",
    "non_violent_rows = chunk[~chunk['contains_violent']]\n",
    "non_violent_rows = non_violent_rows.replace({True: 1, False: 0})"
   ]
  },
  {
   "cell_type": "code",
   "execution_count": 87,
   "id": "4fe49998",
   "metadata": {},
   "outputs": [
    {
     "data": {
      "text/html": [
       "<div>\n",
       "<style scoped>\n",
       "    .dataframe tbody tr th:only-of-type {\n",
       "        vertical-align: middle;\n",
       "    }\n",
       "\n",
       "    .dataframe tbody tr th {\n",
       "        vertical-align: top;\n",
       "    }\n",
       "\n",
       "    .dataframe thead th {\n",
       "        text-align: right;\n",
       "    }\n",
       "</style>\n",
       "<table border=\"1\" class=\"dataframe\">\n",
       "  <thead>\n",
       "    <tr style=\"text-align: right;\">\n",
       "      <th></th>\n",
       "      <th>prompt</th>\n",
       "      <th>image_nsfw</th>\n",
       "      <th>prompt_nsfw</th>\n",
       "      <th>contains_violent</th>\n",
       "    </tr>\n",
       "  </thead>\n",
       "  <tbody>\n",
       "    <tr>\n",
       "      <th>1105087</th>\n",
       "      <td>cocnert for cello and atomic bomb</td>\n",
       "      <td>0.051783</td>\n",
       "      <td>0.066775</td>\n",
       "      <td>1</td>\n",
       "    </tr>\n",
       "    <tr>\n",
       "      <th>1099840</th>\n",
       "      <td>Kirby holding gun.</td>\n",
       "      <td>0.126990</td>\n",
       "      <td>0.045630</td>\n",
       "      <td>1</td>\n",
       "    </tr>\n",
       "    <tr>\n",
       "      <th>491929</th>\n",
       "      <td>tilt shift image of retro mid century office building parking lot in sunshine giant squid attack</td>\n",
       "      <td>0.074271</td>\n",
       "      <td>0.001137</td>\n",
       "      <td>1</td>\n",
       "    </tr>\n",
       "    <tr>\n",
       "      <th>1310720</th>\n",
       "      <td>35mm color, lost photo, portrait, fashion shoot, weird, random, strange, spooky, hyperdetailed, photorealistic, high fashion, interesting, morgue, by David Cronenberg and WETA digital, !!!Vogue magazine!!! halo. octane rendering, cinematic, hyperrealism, octane rendering, 8k, depth of field, bokeh. iridescent accents. vibrant.</td>\n",
       "      <td>0.208033</td>\n",
       "      <td>0.001933</td>\n",
       "      <td>1</td>\n",
       "    </tr>\n",
       "    <tr>\n",
       "      <th>1972836</th>\n",
       "      <td>vogue photo shoot, chic, feminine, 8 0 s skirt suit, pantyhose, stilettos, photorealistic, highly detailed, 4 k, by yasuhiro wakabayashi</td>\n",
       "      <td>0.484698</td>\n",
       "      <td>0.002063</td>\n",
       "      <td>1</td>\n",
       "    </tr>\n",
       "    <tr>\n",
       "      <th>...</th>\n",
       "      <td>...</td>\n",
       "      <td>...</td>\n",
       "      <td>...</td>\n",
       "      <td>...</td>\n",
       "    </tr>\n",
       "    <tr>\n",
       "      <th>601792</th>\n",
       "      <td>a beefy man with a machine gun, egyptian pyramid in the background, 4 k, sharp focus, real life photo, highly detailed, cinematic, photorealistic, cyberpunk, book cover</td>\n",
       "      <td>0.826466</td>\n",
       "      <td>0.023059</td>\n",
       "      <td>1</td>\n",
       "    </tr>\n",
       "    <tr>\n",
       "      <th>156001</th>\n",
       "      <td>« vanu soldier, full helmet, purple and black clothes, tall young male, dominant, heavy gun »</td>\n",
       "      <td>0.122416</td>\n",
       "      <td>0.033809</td>\n",
       "      <td>1</td>\n",
       "    </tr>\n",
       "    <tr>\n",
       "      <th>1430072</th>\n",
       "      <td>wooden houses in hiroshima, atom bomb cloud in distance, colored pencil art</td>\n",
       "      <td>0.103364</td>\n",
       "      <td>0.005577</td>\n",
       "      <td>1</td>\n",
       "    </tr>\n",
       "    <tr>\n",
       "      <th>686750</th>\n",
       "      <td>painting by greg rutkowski, dragons attack, epic, middle ages, fantasy, castle, matte painting illustration hearthstone, by greg rutkowski by greg tocchini by james gilleard</td>\n",
       "      <td>0.117775</td>\n",
       "      <td>0.002427</td>\n",
       "      <td>1</td>\n",
       "    </tr>\n",
       "    <tr>\n",
       "      <th>340299</th>\n",
       "      <td>Emma Watson closeup of face shoulders and very long hair hair pouting and grinning Vogue fashion shoot by Peter Lindbergh fashion poses detailed professional studio lighting dramatic shadows professional photograph by Cecil Beaton, Lee Miller, Irving Penn, David Bailey, Corinne Day, Patrick Demarchelier, Nick Knight, Herb Ritts, Mario Testino, Tim Walker, Bruce Weber, Edward Steichen, Albert Watson</td>\n",
       "      <td>0.751263</td>\n",
       "      <td>0.001940</td>\n",
       "      <td>1</td>\n",
       "    </tr>\n",
       "  </tbody>\n",
       "</table>\n",
       "<p>1147 rows × 4 columns</p>\n",
       "</div>"
      ],
      "text/plain": [
       "                                                                                                                                                                                                                                                                                                                                                                                                                    prompt  image_nsfw  prompt_nsfw  contains_violent\n",
       "1105087                                                                                                                                                                                                                                                                                                                                                                                  cocnert for cello and atomic bomb    0.051783     0.066775                 1\n",
       "1099840                                                                                                                                                                                                                                                                                                                                                                                                 Kirby holding gun.    0.126990     0.045630                 1\n",
       "491929                                                                                                                                                                                                                                                                                                                   tilt shift image of retro mid century office building parking lot in sunshine giant squid attack     0.074271     0.001137                 1\n",
       "1310720                                                                           35mm color, lost photo, portrait, fashion shoot, weird, random, strange, spooky, hyperdetailed, photorealistic, high fashion, interesting, morgue, by David Cronenberg and WETA digital, !!!Vogue magazine!!! halo. octane rendering, cinematic, hyperrealism, octane rendering, 8k, depth of field, bokeh. iridescent accents. vibrant.    0.208033     0.001933                 1\n",
       "1972836                                                                                                                                                                                                                                                                          vogue photo shoot, chic, feminine, 8 0 s skirt suit, pantyhose, stilettos, photorealistic, highly detailed, 4 k, by yasuhiro wakabayashi     0.484698     0.002063                 1\n",
       "...                                                                                                                                                                                                                                                                                                                                                                                                                    ...         ...          ...               ...\n",
       "601792                                                                                                                                                                                                                                           a beefy man with a machine gun, egyptian pyramid in the background, 4 k, sharp focus, real life photo, highly detailed, cinematic, photorealistic, cyberpunk, book cover     0.826466     0.023059                 1\n",
       "156001                                                                                                                                                                                                                                                                                                                      « vanu soldier, full helmet, purple and black clothes, tall young male, dominant, heavy gun »     0.122416     0.033809                 1\n",
       "1430072                                                                                                                                                                                                                                                                                                                                        wooden houses in hiroshima, atom bomb cloud in distance, colored pencil art    0.103364     0.005577                 1\n",
       "686750                                                                                                                                                                                                                                      painting by greg rutkowski, dragons attack, epic, middle ages, fantasy, castle, matte painting illustration hearthstone, by greg rutkowski by greg tocchini by james gilleard     0.117775     0.002427                 1\n",
       "340299   Emma Watson closeup of face shoulders and very long hair hair pouting and grinning Vogue fashion shoot by Peter Lindbergh fashion poses detailed professional studio lighting dramatic shadows professional photograph by Cecil Beaton, Lee Miller, Irving Penn, David Bailey, Corinne Day, Patrick Demarchelier, Nick Knight, Herb Ritts, Mario Testino, Tim Walker, Bruce Weber, Edward Steichen, Albert Watson    0.751263     0.001940                 1\n",
       "\n",
       "[1147 rows x 4 columns]"
      ]
     },
     "execution_count": 87,
     "metadata": {},
     "output_type": "execute_result"
    }
   ],
   "source": [
    "violent_rows"
   ]
  },
  {
   "cell_type": "code",
   "execution_count": 99,
   "id": "abe22d50",
   "metadata": {},
   "outputs": [
    {
     "data": {
      "text/plain": [
       "0.024992168707536688"
      ]
     },
     "execution_count": 99,
     "metadata": {},
     "output_type": "execute_result"
    }
   ],
   "source": [
    "non_violent_rows[\"prompt_nsfw\"].mean()"
   ]
  },
  {
   "cell_type": "code",
   "execution_count": 170,
   "id": "a24a65b8",
   "metadata": {},
   "outputs": [],
   "source": [
    "final_df.loc[final_df['contains_violent'] == 1, \"contains_violent\"] = \"Harmful\"\n",
    "final_df.loc[final_df['contains_violent'] == 0, \"contains_violent\"] = \"Harmless\""
   ]
  },
  {
   "cell_type": "code",
   "execution_count": 171,
   "id": "4a2f3a68",
   "metadata": {},
   "outputs": [
    {
     "data": {
      "text/html": [
       "<div>\n",
       "<style scoped>\n",
       "    .dataframe tbody tr th:only-of-type {\n",
       "        vertical-align: middle;\n",
       "    }\n",
       "\n",
       "    .dataframe tbody tr th {\n",
       "        vertical-align: top;\n",
       "    }\n",
       "\n",
       "    .dataframe thead th {\n",
       "        text-align: right;\n",
       "    }\n",
       "</style>\n",
       "<table border=\"1\" class=\"dataframe\">\n",
       "  <thead>\n",
       "    <tr style=\"text-align: right;\">\n",
       "      <th></th>\n",
       "      <th>prompt</th>\n",
       "      <th>image_nsfw</th>\n",
       "      <th>prompt_nsfw</th>\n",
       "      <th>contains_violent</th>\n",
       "      <th>contains_explicit</th>\n",
       "    </tr>\n",
       "  </thead>\n",
       "  <tbody>\n",
       "    <tr>\n",
       "      <th>0</th>\n",
       "      <td>Emma watson Muscular and powerful medieval noble woman portrait, sci-fi, amber eyes, face, long hair, fantasy, intricate, elegant, highly detailed, digital painting, artstation, concept art, smooth, sharp focus,8k,  illustration, art by artgerm and greg rutkowski and alphonse mucha</td>\n",
       "      <td>0.723663</td>\n",
       "      <td>0.001068</td>\n",
       "      <td>Harmless</td>\n",
       "      <td>False</td>\n",
       "    </tr>\n",
       "    <tr>\n",
       "      <th>1</th>\n",
       "      <td>epic professional digital image of a hybrid girl of plants and flowers, fox digs, reina rachin, ignacio fernandez rios, leesha hannigan, wayne haag, artstation, cgsocietywlop, epic, a lot of wow, a lot of detail, gorgeous, detailed, cinematic, masterpiece</td>\n",
       "      <td>0.487867</td>\n",
       "      <td>0.002508</td>\n",
       "      <td>Harmless</td>\n",
       "      <td>False</td>\n",
       "    </tr>\n",
       "    <tr>\n",
       "      <th>2</th>\n",
       "      <td>scene from mupet save private ryan</td>\n",
       "      <td>0.050685</td>\n",
       "      <td>0.002552</td>\n",
       "      <td>Harmless</td>\n",
       "      <td>False</td>\n",
       "    </tr>\n",
       "    <tr>\n",
       "      <th>3</th>\n",
       "      <td>anime, mage, vogue, intricate oil painting, trending on artstation, john singer sargent, greg rutkowski, side profile, pink hair, masquerade</td>\n",
       "      <td>0.283684</td>\n",
       "      <td>0.001868</td>\n",
       "      <td>Harmless</td>\n",
       "      <td>False</td>\n",
       "    </tr>\n",
       "    <tr>\n",
       "      <th>4</th>\n",
       "      <td>humanoid rat who has bald head, weak chin clean shaven and is insecure</td>\n",
       "      <td>0.053884</td>\n",
       "      <td>0.950304</td>\n",
       "      <td>Harmless</td>\n",
       "      <td>False</td>\n",
       "    </tr>\n",
       "    <tr>\n",
       "      <th>...</th>\n",
       "      <td>...</td>\n",
       "      <td>...</td>\n",
       "      <td>...</td>\n",
       "      <td>...</td>\n",
       "      <td>...</td>\n",
       "    </tr>\n",
       "    <tr>\n",
       "      <th>199995</th>\n",
       "      <td>cnn breaking news, mar a lago has been violently occupied by tony montana from the film scarface ( 1 9 8 3 )</td>\n",
       "      <td>0.039752</td>\n",
       "      <td>0.000935</td>\n",
       "      <td>Harmless</td>\n",
       "      <td>False</td>\n",
       "    </tr>\n",
       "    <tr>\n",
       "      <th>199996</th>\n",
       "      <td>A robot talking to Gandalf the Grey in a beach scene, Cinematic shot, Highly Detailed</td>\n",
       "      <td>0.079238</td>\n",
       "      <td>0.000419</td>\n",
       "      <td>Harmless</td>\n",
       "      <td>False</td>\n",
       "    </tr>\n",
       "    <tr>\n",
       "      <th>199997</th>\n",
       "      <td>A fairy witch eating mushrooms in a magical forest</td>\n",
       "      <td>0.735223</td>\n",
       "      <td>0.327841</td>\n",
       "      <td>Harmless</td>\n",
       "      <td>False</td>\n",
       "    </tr>\n",
       "    <tr>\n",
       "      <th>199998</th>\n",
       "      <td>conversion van interior, van life</td>\n",
       "      <td>0.093359</td>\n",
       "      <td>0.001529</td>\n",
       "      <td>Harmless</td>\n",
       "      <td>False</td>\n",
       "    </tr>\n",
       "    <tr>\n",
       "      <th>199999</th>\n",
       "      <td>logo design, roller derby girl sprinting Cross-Over, wearing skate helmet, knee pads, elbow pads,full length portrait, fishnet tights, torn, ripped, fists in the air, illustration by greg rutkowski</td>\n",
       "      <td>0.207018</td>\n",
       "      <td>0.002279</td>\n",
       "      <td>Harmless</td>\n",
       "      <td>False</td>\n",
       "    </tr>\n",
       "  </tbody>\n",
       "</table>\n",
       "<p>200000 rows × 5 columns</p>\n",
       "</div>"
      ],
      "text/plain": [
       "                                                                                                                                                                                                                                                                                            prompt  image_nsfw  prompt_nsfw contains_violent  contains_explicit\n",
       "0       Emma watson Muscular and powerful medieval noble woman portrait, sci-fi, amber eyes, face, long hair, fantasy, intricate, elegant, highly detailed, digital painting, artstation, concept art, smooth, sharp focus,8k,  illustration, art by artgerm and greg rutkowski and alphonse mucha    0.723663     0.001068         Harmless              False\n",
       "1                                 epic professional digital image of a hybrid girl of plants and flowers, fox digs, reina rachin, ignacio fernandez rios, leesha hannigan, wayne haag, artstation, cgsocietywlop, epic, a lot of wow, a lot of detail, gorgeous, detailed, cinematic, masterpiece     0.487867     0.002508         Harmless              False\n",
       "2                                                                                                                                                                                                                                                              scene from mupet save private ryan     0.050685     0.002552         Harmless              False\n",
       "3                                                                                                                                                    anime, mage, vogue, intricate oil painting, trending on artstation, john singer sargent, greg rutkowski, side profile, pink hair, masquerade     0.283684     0.001868         Harmless              False\n",
       "4                                                                                                                                                                                                                          humanoid rat who has bald head, weak chin clean shaven and is insecure     0.053884     0.950304         Harmless              False\n",
       "...                                                                                                                                                                                                                                                                                            ...         ...          ...              ...                ...\n",
       "199995                                                                                                                                                                               cnn breaking news, mar a lago has been violently occupied by tony montana from the film scarface ( 1 9 8 3 )     0.039752     0.000935         Harmless              False\n",
       "199996                                                                                                                                                                                                       A robot talking to Gandalf the Grey in a beach scene, Cinematic shot, Highly Detailed    0.079238     0.000419         Harmless              False\n",
       "199997                                                                                                                                                                                                                                          A fairy witch eating mushrooms in a magical forest    0.735223     0.327841         Harmless              False\n",
       "199998                                                                                                                                                                                                                                                           conversion van interior, van life    0.093359     0.001529         Harmless              False\n",
       "199999                                                                                       logo design, roller derby girl sprinting Cross-Over, wearing skate helmet, knee pads, elbow pads,full length portrait, fishnet tights, torn, ripped, fists in the air, illustration by greg rutkowski    0.207018     0.002279         Harmless              False\n",
       "\n",
       "[200000 rows x 5 columns]"
      ]
     },
     "execution_count": 171,
     "metadata": {},
     "output_type": "execute_result"
    }
   ],
   "source": [
    "final_df"
   ]
  },
  {
   "cell_type": "code",
   "execution_count": 172,
   "id": "6a07d93f",
   "metadata": {},
   "outputs": [],
   "source": [
    "neigh = KNeighborsClassifier(n_neighbors=5)\n",
    "clf = MultinomialNB()"
   ]
  },
  {
   "cell_type": "code",
   "execution_count": 173,
   "id": "89cf1156",
   "metadata": {},
   "outputs": [],
   "source": [
    "y = (final_df['prompt_nsfw']>=0.24992168707536688)"
   ]
  },
  {
   "cell_type": "code",
   "execution_count": 174,
   "id": "2b22d62c",
   "metadata": {},
   "outputs": [],
   "source": [
    "X = final_df[['contains_violent']]"
   ]
  },
  {
   "cell_type": "code",
   "execution_count": 175,
   "id": "d468245c",
   "metadata": {},
   "outputs": [
    {
     "ename": "ValueError",
     "evalue": "could not convert string to float: 'Harmless'",
     "output_type": "error",
     "traceback": [
      "\u001b[1;31m---------------------------------------------------------------------------\u001b[0m",
      "\u001b[1;31mValueError\u001b[0m                                Traceback (most recent call last)",
      "\u001b[1;32m~\\AppData\\Local\\Temp\\ipykernel_34364\\887143852.py\u001b[0m in \u001b[0;36m<module>\u001b[1;34m\u001b[0m\n\u001b[1;32m----> 1\u001b[1;33m \u001b[0mneigh\u001b[0m\u001b[1;33m.\u001b[0m\u001b[0mfit\u001b[0m\u001b[1;33m(\u001b[0m\u001b[0mX\u001b[0m\u001b[1;33m,\u001b[0m \u001b[0my\u001b[0m\u001b[1;33m)\u001b[0m\u001b[1;33m\u001b[0m\u001b[1;33m\u001b[0m\u001b[0m\n\u001b[0m",
      "\u001b[1;32mC:\\ProgramData\\Anaconda3\\lib\\site-packages\\sklearn\\neighbors\\_classification.py\u001b[0m in \u001b[0;36mfit\u001b[1;34m(self, X, y)\u001b[0m\n\u001b[0;32m    196\u001b[0m         \u001b[0mself\u001b[0m\u001b[1;33m.\u001b[0m\u001b[0mweights\u001b[0m \u001b[1;33m=\u001b[0m \u001b[0m_check_weights\u001b[0m\u001b[1;33m(\u001b[0m\u001b[0mself\u001b[0m\u001b[1;33m.\u001b[0m\u001b[0mweights\u001b[0m\u001b[1;33m)\u001b[0m\u001b[1;33m\u001b[0m\u001b[1;33m\u001b[0m\u001b[0m\n\u001b[0;32m    197\u001b[0m \u001b[1;33m\u001b[0m\u001b[0m\n\u001b[1;32m--> 198\u001b[1;33m         \u001b[1;32mreturn\u001b[0m \u001b[0mself\u001b[0m\u001b[1;33m.\u001b[0m\u001b[0m_fit\u001b[0m\u001b[1;33m(\u001b[0m\u001b[0mX\u001b[0m\u001b[1;33m,\u001b[0m \u001b[0my\u001b[0m\u001b[1;33m)\u001b[0m\u001b[1;33m\u001b[0m\u001b[1;33m\u001b[0m\u001b[0m\n\u001b[0m\u001b[0;32m    199\u001b[0m \u001b[1;33m\u001b[0m\u001b[0m\n\u001b[0;32m    200\u001b[0m     \u001b[1;32mdef\u001b[0m \u001b[0mpredict\u001b[0m\u001b[1;33m(\u001b[0m\u001b[0mself\u001b[0m\u001b[1;33m,\u001b[0m \u001b[0mX\u001b[0m\u001b[1;33m)\u001b[0m\u001b[1;33m:\u001b[0m\u001b[1;33m\u001b[0m\u001b[1;33m\u001b[0m\u001b[0m\n",
      "\u001b[1;32mC:\\ProgramData\\Anaconda3\\lib\\site-packages\\sklearn\\neighbors\\_base.py\u001b[0m in \u001b[0;36m_fit\u001b[1;34m(self, X, y)\u001b[0m\n\u001b[0;32m    398\u001b[0m         \u001b[1;32mif\u001b[0m \u001b[0mself\u001b[0m\u001b[1;33m.\u001b[0m\u001b[0m_get_tags\u001b[0m\u001b[1;33m(\u001b[0m\u001b[1;33m)\u001b[0m\u001b[1;33m[\u001b[0m\u001b[1;34m\"requires_y\"\u001b[0m\u001b[1;33m]\u001b[0m\u001b[1;33m:\u001b[0m\u001b[1;33m\u001b[0m\u001b[1;33m\u001b[0m\u001b[0m\n\u001b[0;32m    399\u001b[0m             \u001b[1;32mif\u001b[0m \u001b[1;32mnot\u001b[0m \u001b[0misinstance\u001b[0m\u001b[1;33m(\u001b[0m\u001b[0mX\u001b[0m\u001b[1;33m,\u001b[0m \u001b[1;33m(\u001b[0m\u001b[0mKDTree\u001b[0m\u001b[1;33m,\u001b[0m \u001b[0mBallTree\u001b[0m\u001b[1;33m,\u001b[0m \u001b[0mNeighborsBase\u001b[0m\u001b[1;33m)\u001b[0m\u001b[1;33m)\u001b[0m\u001b[1;33m:\u001b[0m\u001b[1;33m\u001b[0m\u001b[1;33m\u001b[0m\u001b[0m\n\u001b[1;32m--> 400\u001b[1;33m                 \u001b[0mX\u001b[0m\u001b[1;33m,\u001b[0m \u001b[0my\u001b[0m \u001b[1;33m=\u001b[0m \u001b[0mself\u001b[0m\u001b[1;33m.\u001b[0m\u001b[0m_validate_data\u001b[0m\u001b[1;33m(\u001b[0m\u001b[0mX\u001b[0m\u001b[1;33m,\u001b[0m \u001b[0my\u001b[0m\u001b[1;33m,\u001b[0m \u001b[0maccept_sparse\u001b[0m\u001b[1;33m=\u001b[0m\u001b[1;34m\"csr\"\u001b[0m\u001b[1;33m,\u001b[0m \u001b[0mmulti_output\u001b[0m\u001b[1;33m=\u001b[0m\u001b[1;32mTrue\u001b[0m\u001b[1;33m)\u001b[0m\u001b[1;33m\u001b[0m\u001b[1;33m\u001b[0m\u001b[0m\n\u001b[0m\u001b[0;32m    401\u001b[0m \u001b[1;33m\u001b[0m\u001b[0m\n\u001b[0;32m    402\u001b[0m             \u001b[1;32mif\u001b[0m \u001b[0mis_classifier\u001b[0m\u001b[1;33m(\u001b[0m\u001b[0mself\u001b[0m\u001b[1;33m)\u001b[0m\u001b[1;33m:\u001b[0m\u001b[1;33m\u001b[0m\u001b[1;33m\u001b[0m\u001b[0m\n",
      "\u001b[1;32mC:\\ProgramData\\Anaconda3\\lib\\site-packages\\sklearn\\base.py\u001b[0m in \u001b[0;36m_validate_data\u001b[1;34m(self, X, y, reset, validate_separately, **check_params)\u001b[0m\n\u001b[0;32m    579\u001b[0m                 \u001b[0my\u001b[0m \u001b[1;33m=\u001b[0m \u001b[0mcheck_array\u001b[0m\u001b[1;33m(\u001b[0m\u001b[0my\u001b[0m\u001b[1;33m,\u001b[0m \u001b[1;33m**\u001b[0m\u001b[0mcheck_y_params\u001b[0m\u001b[1;33m)\u001b[0m\u001b[1;33m\u001b[0m\u001b[1;33m\u001b[0m\u001b[0m\n\u001b[0;32m    580\u001b[0m             \u001b[1;32melse\u001b[0m\u001b[1;33m:\u001b[0m\u001b[1;33m\u001b[0m\u001b[1;33m\u001b[0m\u001b[0m\n\u001b[1;32m--> 581\u001b[1;33m                 \u001b[0mX\u001b[0m\u001b[1;33m,\u001b[0m \u001b[0my\u001b[0m \u001b[1;33m=\u001b[0m \u001b[0mcheck_X_y\u001b[0m\u001b[1;33m(\u001b[0m\u001b[0mX\u001b[0m\u001b[1;33m,\u001b[0m \u001b[0my\u001b[0m\u001b[1;33m,\u001b[0m \u001b[1;33m**\u001b[0m\u001b[0mcheck_params\u001b[0m\u001b[1;33m)\u001b[0m\u001b[1;33m\u001b[0m\u001b[1;33m\u001b[0m\u001b[0m\n\u001b[0m\u001b[0;32m    582\u001b[0m             \u001b[0mout\u001b[0m \u001b[1;33m=\u001b[0m \u001b[0mX\u001b[0m\u001b[1;33m,\u001b[0m \u001b[0my\u001b[0m\u001b[1;33m\u001b[0m\u001b[1;33m\u001b[0m\u001b[0m\n\u001b[0;32m    583\u001b[0m \u001b[1;33m\u001b[0m\u001b[0m\n",
      "\u001b[1;32mC:\\ProgramData\\Anaconda3\\lib\\site-packages\\sklearn\\utils\\validation.py\u001b[0m in \u001b[0;36mcheck_X_y\u001b[1;34m(X, y, accept_sparse, accept_large_sparse, dtype, order, copy, force_all_finite, ensure_2d, allow_nd, multi_output, ensure_min_samples, ensure_min_features, y_numeric, estimator)\u001b[0m\n\u001b[0;32m    962\u001b[0m         \u001b[1;32mraise\u001b[0m \u001b[0mValueError\u001b[0m\u001b[1;33m(\u001b[0m\u001b[1;34m\"y cannot be None\"\u001b[0m\u001b[1;33m)\u001b[0m\u001b[1;33m\u001b[0m\u001b[1;33m\u001b[0m\u001b[0m\n\u001b[0;32m    963\u001b[0m \u001b[1;33m\u001b[0m\u001b[0m\n\u001b[1;32m--> 964\u001b[1;33m     X = check_array(\n\u001b[0m\u001b[0;32m    965\u001b[0m         \u001b[0mX\u001b[0m\u001b[1;33m,\u001b[0m\u001b[1;33m\u001b[0m\u001b[1;33m\u001b[0m\u001b[0m\n\u001b[0;32m    966\u001b[0m         \u001b[0maccept_sparse\u001b[0m\u001b[1;33m=\u001b[0m\u001b[0maccept_sparse\u001b[0m\u001b[1;33m,\u001b[0m\u001b[1;33m\u001b[0m\u001b[1;33m\u001b[0m\u001b[0m\n",
      "\u001b[1;32mC:\\ProgramData\\Anaconda3\\lib\\site-packages\\sklearn\\utils\\validation.py\u001b[0m in \u001b[0;36mcheck_array\u001b[1;34m(array, accept_sparse, accept_large_sparse, dtype, order, copy, force_all_finite, ensure_2d, allow_nd, ensure_min_samples, ensure_min_features, estimator)\u001b[0m\n\u001b[0;32m    744\u001b[0m                     \u001b[0marray\u001b[0m \u001b[1;33m=\u001b[0m \u001b[0marray\u001b[0m\u001b[1;33m.\u001b[0m\u001b[0mastype\u001b[0m\u001b[1;33m(\u001b[0m\u001b[0mdtype\u001b[0m\u001b[1;33m,\u001b[0m \u001b[0mcasting\u001b[0m\u001b[1;33m=\u001b[0m\u001b[1;34m\"unsafe\"\u001b[0m\u001b[1;33m,\u001b[0m \u001b[0mcopy\u001b[0m\u001b[1;33m=\u001b[0m\u001b[1;32mFalse\u001b[0m\u001b[1;33m)\u001b[0m\u001b[1;33m\u001b[0m\u001b[1;33m\u001b[0m\u001b[0m\n\u001b[0;32m    745\u001b[0m                 \u001b[1;32melse\u001b[0m\u001b[1;33m:\u001b[0m\u001b[1;33m\u001b[0m\u001b[1;33m\u001b[0m\u001b[0m\n\u001b[1;32m--> 746\u001b[1;33m                     \u001b[0marray\u001b[0m \u001b[1;33m=\u001b[0m \u001b[0mnp\u001b[0m\u001b[1;33m.\u001b[0m\u001b[0masarray\u001b[0m\u001b[1;33m(\u001b[0m\u001b[0marray\u001b[0m\u001b[1;33m,\u001b[0m \u001b[0morder\u001b[0m\u001b[1;33m=\u001b[0m\u001b[0morder\u001b[0m\u001b[1;33m,\u001b[0m \u001b[0mdtype\u001b[0m\u001b[1;33m=\u001b[0m\u001b[0mdtype\u001b[0m\u001b[1;33m)\u001b[0m\u001b[1;33m\u001b[0m\u001b[1;33m\u001b[0m\u001b[0m\n\u001b[0m\u001b[0;32m    747\u001b[0m             \u001b[1;32mexcept\u001b[0m \u001b[0mComplexWarning\u001b[0m \u001b[1;32mas\u001b[0m \u001b[0mcomplex_warning\u001b[0m\u001b[1;33m:\u001b[0m\u001b[1;33m\u001b[0m\u001b[1;33m\u001b[0m\u001b[0m\n\u001b[0;32m    748\u001b[0m                 raise ValueError(\n",
      "\u001b[1;32mC:\\ProgramData\\Anaconda3\\lib\\site-packages\\pandas\\core\\generic.py\u001b[0m in \u001b[0;36m__array__\u001b[1;34m(self, dtype)\u001b[0m\n\u001b[0;32m   2062\u001b[0m \u001b[1;33m\u001b[0m\u001b[0m\n\u001b[0;32m   2063\u001b[0m     \u001b[1;32mdef\u001b[0m \u001b[0m__array__\u001b[0m\u001b[1;33m(\u001b[0m\u001b[0mself\u001b[0m\u001b[1;33m,\u001b[0m \u001b[0mdtype\u001b[0m\u001b[1;33m:\u001b[0m \u001b[0mnpt\u001b[0m\u001b[1;33m.\u001b[0m\u001b[0mDTypeLike\u001b[0m \u001b[1;33m|\u001b[0m \u001b[1;32mNone\u001b[0m \u001b[1;33m=\u001b[0m \u001b[1;32mNone\u001b[0m\u001b[1;33m)\u001b[0m \u001b[1;33m->\u001b[0m \u001b[0mnp\u001b[0m\u001b[1;33m.\u001b[0m\u001b[0mndarray\u001b[0m\u001b[1;33m:\u001b[0m\u001b[1;33m\u001b[0m\u001b[1;33m\u001b[0m\u001b[0m\n\u001b[1;32m-> 2064\u001b[1;33m         \u001b[1;32mreturn\u001b[0m \u001b[0mnp\u001b[0m\u001b[1;33m.\u001b[0m\u001b[0masarray\u001b[0m\u001b[1;33m(\u001b[0m\u001b[0mself\u001b[0m\u001b[1;33m.\u001b[0m\u001b[0m_values\u001b[0m\u001b[1;33m,\u001b[0m \u001b[0mdtype\u001b[0m\u001b[1;33m=\u001b[0m\u001b[0mdtype\u001b[0m\u001b[1;33m)\u001b[0m\u001b[1;33m\u001b[0m\u001b[1;33m\u001b[0m\u001b[0m\n\u001b[0m\u001b[0;32m   2065\u001b[0m \u001b[1;33m\u001b[0m\u001b[0m\n\u001b[0;32m   2066\u001b[0m     def __array_wrap__(\n",
      "\u001b[1;31mValueError\u001b[0m: could not convert string to float: 'Harmless'"
     ]
    }
   ],
   "source": [
    "neigh.fit(X, y)"
   ]
  },
  {
   "cell_type": "code",
   "execution_count": 144,
   "id": "c85a1396",
   "metadata": {},
   "outputs": [
    {
     "data": {
      "text/plain": [
       "MultinomialNB()"
      ]
     },
     "execution_count": 144,
     "metadata": {},
     "output_type": "execute_result"
    }
   ],
   "source": [
    "clf.fit(X, y)"
   ]
  },
  {
   "cell_type": "code",
   "execution_count": 159,
   "id": "a7da6484",
   "metadata": {},
   "outputs": [],
   "source": [
    "scaler = StandardScaler()\n",
    "X_scaled = scaler.fit_transform(X)"
   ]
  },
  {
   "cell_type": "code",
   "execution_count": 160,
   "id": "60d45034",
   "metadata": {},
   "outputs": [],
   "source": [
    "X_train, X_test, y_train, y_test = train_test_split(\n",
    "    X_scaled, y, test_size=0.2, random_state=42)"
   ]
  },
  {
   "cell_type": "code",
   "execution_count": 161,
   "id": "7db0a9c4",
   "metadata": {},
   "outputs": [
    {
     "data": {
      "text/plain": [
       "KNeighborsClassifier()"
      ]
     },
     "execution_count": 161,
     "metadata": {},
     "output_type": "execute_result"
    }
   ],
   "source": [
    "knn = KNeighborsClassifier(n_neighbors=5)\n",
    "knn.fit(X_train, y_train)"
   ]
  },
  {
   "cell_type": "code",
   "execution_count": 162,
   "id": "6872b747",
   "metadata": {
    "scrolled": true
   },
   "outputs": [
    {
     "name": "stderr",
     "output_type": "stream",
     "text": [
      "C:\\ProgramData\\Anaconda3\\lib\\site-packages\\sklearn\\neighbors\\_classification.py:228: FutureWarning: Unlike other reduction functions (e.g. `skew`, `kurtosis`), the default behavior of `mode` typically preserves the axis it acts along. In SciPy 1.11.0, this behavior will change: the default value of `keepdims` will become False, the `axis` over which the statistic is taken will be eliminated, and the value None will no longer be accepted. Set `keepdims` to True or False to avoid this warning.\n",
      "  mode, _ = stats.mode(_y[neigh_ind, k], axis=1)\n"
     ]
    }
   ],
   "source": [
    "y_pred = knn.predict(X_test)"
   ]
  },
  {
   "cell_type": "code",
   "execution_count": 163,
   "id": "0099aad2",
   "metadata": {},
   "outputs": [
    {
     "data": {
      "text/plain": [
       "0.97275"
      ]
     },
     "execution_count": 163,
     "metadata": {},
     "output_type": "execute_result"
    }
   ],
   "source": [
    "from sklearn.metrics import accuracy_score\n",
    "accuracy_score(y_test, y_pred)"
   ]
  },
  {
   "cell_type": "code",
   "execution_count": 164,
   "id": "252a4e14",
   "metadata": {},
   "outputs": [
    {
     "name": "stderr",
     "output_type": "stream",
     "text": [
      "C:\\ProgramData\\Anaconda3\\lib\\site-packages\\sklearn\\metrics\\_classification.py:1318: UndefinedMetricWarning: Precision is ill-defined and being set to 0.0 in labels with no predicted samples. Use `zero_division` parameter to control this behavior.\n",
      "  _warn_prf(average, modifier, msg_start, len(result))\n"
     ]
    },
    {
     "data": {
      "text/plain": [
       "0.486375"
      ]
     },
     "execution_count": 164,
     "metadata": {},
     "output_type": "execute_result"
    }
   ],
   "source": [
    "from sklearn.metrics import precision_score\n",
    "precision_score(y_test, y_pred, average='macro')"
   ]
  },
  {
   "cell_type": "code",
   "execution_count": 165,
   "id": "3dab8290",
   "metadata": {},
   "outputs": [
    {
     "data": {
      "text/plain": [
       "0.5"
      ]
     },
     "execution_count": 165,
     "metadata": {},
     "output_type": "execute_result"
    }
   ],
   "source": [
    "from sklearn.metrics import recall_score\n",
    "recall_score(y_test, y_pred, average='macro')"
   ]
  },
  {
   "cell_type": "code",
   "execution_count": 166,
   "id": "4797370c",
   "metadata": {},
   "outputs": [
    {
     "data": {
      "text/plain": [
       "0.493093397541503"
      ]
     },
     "execution_count": 166,
     "metadata": {},
     "output_type": "execute_result"
    }
   ],
   "source": [
    "from sklearn.metrics import f1_score\n",
    "f1_score(y_test, y_pred, average='macro')"
   ]
  },
  {
   "cell_type": "code",
   "execution_count": 167,
   "id": "30c296f6",
   "metadata": {},
   "outputs": [
    {
     "ename": "NotFittedError",
     "evalue": "This MultinomialNB instance is not fitted yet. Call 'fit' with appropriate arguments before using this estimator.",
     "output_type": "error",
     "traceback": [
      "\u001b[1;31m---------------------------------------------------------------------------\u001b[0m",
      "\u001b[1;31mNotFittedError\u001b[0m                            Traceback (most recent call last)",
      "\u001b[1;32m~\\AppData\\Local\\Temp\\ipykernel_34364\\4029796516.py\u001b[0m in \u001b[0;36m<module>\u001b[1;34m\u001b[0m\n\u001b[1;32m----> 1\u001b[1;33m \u001b[0my_pred_bayes\u001b[0m \u001b[1;33m=\u001b[0m \u001b[0mclf\u001b[0m\u001b[1;33m.\u001b[0m\u001b[0mpredict\u001b[0m\u001b[1;33m(\u001b[0m\u001b[0mX\u001b[0m\u001b[1;33m)\u001b[0m\u001b[1;33m\u001b[0m\u001b[1;33m\u001b[0m\u001b[0m\n\u001b[0m",
      "\u001b[1;32mC:\\ProgramData\\Anaconda3\\lib\\site-packages\\sklearn\\naive_bayes.py\u001b[0m in \u001b[0;36mpredict\u001b[1;34m(self, X)\u001b[0m\n\u001b[0;32m     79\u001b[0m             \u001b[0mPredicted\u001b[0m \u001b[0mtarget\u001b[0m \u001b[0mvalues\u001b[0m \u001b[1;32mfor\u001b[0m \u001b[0mX\u001b[0m\u001b[1;33m.\u001b[0m\u001b[1;33m\u001b[0m\u001b[1;33m\u001b[0m\u001b[0m\n\u001b[0;32m     80\u001b[0m         \"\"\"\n\u001b[1;32m---> 81\u001b[1;33m         \u001b[0mcheck_is_fitted\u001b[0m\u001b[1;33m(\u001b[0m\u001b[0mself\u001b[0m\u001b[1;33m)\u001b[0m\u001b[1;33m\u001b[0m\u001b[1;33m\u001b[0m\u001b[0m\n\u001b[0m\u001b[0;32m     82\u001b[0m         \u001b[0mX\u001b[0m \u001b[1;33m=\u001b[0m \u001b[0mself\u001b[0m\u001b[1;33m.\u001b[0m\u001b[0m_check_X\u001b[0m\u001b[1;33m(\u001b[0m\u001b[0mX\u001b[0m\u001b[1;33m)\u001b[0m\u001b[1;33m\u001b[0m\u001b[1;33m\u001b[0m\u001b[0m\n\u001b[0;32m     83\u001b[0m         \u001b[0mjll\u001b[0m \u001b[1;33m=\u001b[0m \u001b[0mself\u001b[0m\u001b[1;33m.\u001b[0m\u001b[0m_joint_log_likelihood\u001b[0m\u001b[1;33m(\u001b[0m\u001b[0mX\u001b[0m\u001b[1;33m)\u001b[0m\u001b[1;33m\u001b[0m\u001b[1;33m\u001b[0m\u001b[0m\n",
      "\u001b[1;32mC:\\ProgramData\\Anaconda3\\lib\\site-packages\\sklearn\\utils\\validation.py\u001b[0m in \u001b[0;36mcheck_is_fitted\u001b[1;34m(estimator, attributes, msg, all_or_any)\u001b[0m\n\u001b[0;32m   1220\u001b[0m \u001b[1;33m\u001b[0m\u001b[0m\n\u001b[0;32m   1221\u001b[0m     \u001b[1;32mif\u001b[0m \u001b[1;32mnot\u001b[0m \u001b[0mfitted\u001b[0m\u001b[1;33m:\u001b[0m\u001b[1;33m\u001b[0m\u001b[1;33m\u001b[0m\u001b[0m\n\u001b[1;32m-> 1222\u001b[1;33m         \u001b[1;32mraise\u001b[0m \u001b[0mNotFittedError\u001b[0m\u001b[1;33m(\u001b[0m\u001b[0mmsg\u001b[0m \u001b[1;33m%\u001b[0m \u001b[1;33m{\u001b[0m\u001b[1;34m\"name\"\u001b[0m\u001b[1;33m:\u001b[0m \u001b[0mtype\u001b[0m\u001b[1;33m(\u001b[0m\u001b[0mestimator\u001b[0m\u001b[1;33m)\u001b[0m\u001b[1;33m.\u001b[0m\u001b[0m__name__\u001b[0m\u001b[1;33m}\u001b[0m\u001b[1;33m)\u001b[0m\u001b[1;33m\u001b[0m\u001b[1;33m\u001b[0m\u001b[0m\n\u001b[0m\u001b[0;32m   1223\u001b[0m \u001b[1;33m\u001b[0m\u001b[0m\n\u001b[0;32m   1224\u001b[0m \u001b[1;33m\u001b[0m\u001b[0m\n",
      "\u001b[1;31mNotFittedError\u001b[0m: This MultinomialNB instance is not fitted yet. Call 'fit' with appropriate arguments before using this estimator."
     ]
    }
   ],
   "source": [
    "y_pred_bayes = clf.predict(X)"
   ]
  },
  {
   "cell_type": "code",
   "execution_count": 149,
   "id": "0f8aac6e",
   "metadata": {},
   "outputs": [
    {
     "data": {
      "text/plain": [
       "0.97297"
      ]
     },
     "execution_count": 149,
     "metadata": {},
     "output_type": "execute_result"
    }
   ],
   "source": [
    "from sklearn.metrics import accuracy_score\n",
    "accuracy_score(y, y_pred_bayes)"
   ]
  },
  {
   "cell_type": "code",
   "execution_count": 150,
   "id": "ceeef777",
   "metadata": {},
   "outputs": [
    {
     "name": "stderr",
     "output_type": "stream",
     "text": [
      "C:\\ProgramData\\Anaconda3\\lib\\site-packages\\sklearn\\metrics\\_classification.py:1318: UndefinedMetricWarning: Precision is ill-defined and being set to 0.0 in labels with no predicted samples. Use `zero_division` parameter to control this behavior.\n",
      "  _warn_prf(average, modifier, msg_start, len(result))\n"
     ]
    },
    {
     "data": {
      "text/plain": [
       "0.486485"
      ]
     },
     "execution_count": 150,
     "metadata": {},
     "output_type": "execute_result"
    }
   ],
   "source": [
    "from sklearn.metrics import precision_score\n",
    "precision_score(y, y_pred_bayes, average='macro')"
   ]
  },
  {
   "cell_type": "code",
   "execution_count": 151,
   "id": "f7bd48ab",
   "metadata": {},
   "outputs": [
    {
     "data": {
      "text/plain": [
       "0.5"
      ]
     },
     "execution_count": 151,
     "metadata": {},
     "output_type": "execute_result"
    }
   ],
   "source": [
    "from sklearn.metrics import recall_score\n",
    "recall_score(y, y_pred_bayes, average='macro')"
   ]
  },
  {
   "cell_type": "code",
   "execution_count": 152,
   "id": "f0cb709f",
   "metadata": {},
   "outputs": [
    {
     "data": {
      "text/plain": [
       "0.4931499211848127"
      ]
     },
     "execution_count": 152,
     "metadata": {},
     "output_type": "execute_result"
    }
   ],
   "source": [
    "from sklearn.metrics import f1_score\n",
    "f1_score(y, y_pred_bayes, average='macro')"
   ]
  },
  {
   "cell_type": "code",
   "execution_count": 176,
   "id": "5f32ddc7",
   "metadata": {},
   "outputs": [
    {
     "data": {
      "text/plain": [
       "array([False, False, False, ..., False, False, False])"
      ]
     },
     "execution_count": 176,
     "metadata": {},
     "output_type": "execute_result"
    }
   ],
   "source": [
    "y_pred_bayes"
   ]
  },
  {
   "cell_type": "code",
   "execution_count": null,
   "id": "82736b42",
   "metadata": {},
   "outputs": [],
   "source": []
  }
 ],
 "metadata": {
  "kernelspec": {
   "display_name": "Python 3 (ipykernel)",
   "language": "python",
   "name": "python3"
  },
  "language_info": {
   "codemirror_mode": {
    "name": "ipython",
    "version": 3
   },
   "file_extension": ".py",
   "mimetype": "text/x-python",
   "name": "python",
   "nbconvert_exporter": "python",
   "pygments_lexer": "ipython3",
   "version": "3.9.13"
  }
 },
 "nbformat": 4,
 "nbformat_minor": 5
}
