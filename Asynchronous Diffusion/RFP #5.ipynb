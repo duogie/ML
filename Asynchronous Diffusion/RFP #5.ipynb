{
 "cells": [
  {
   "cell_type": "code",
   "execution_count": 1,
   "id": "f90f19ef",
   "metadata": {},
   "outputs": [],
   "source": [
    "import pandas as pd\n",
    "import re\n",
    "import numpy as np"
   ]
  },
  {
   "cell_type": "code",
   "execution_count": 2,
   "id": "cac77673",
   "metadata": {},
   "outputs": [],
   "source": [
    "df = pd.read_csv('diffusion_db_unaltered.csv')"
   ]
  },
  {
   "cell_type": "code",
   "execution_count": 3,
   "id": "5678322b",
   "metadata": {},
   "outputs": [
    {
     "data": {
      "text/html": [
       "<div>\n",
       "<style scoped>\n",
       "    .dataframe tbody tr th:only-of-type {\n",
       "        vertical-align: middle;\n",
       "    }\n",
       "\n",
       "    .dataframe tbody tr th {\n",
       "        vertical-align: top;\n",
       "    }\n",
       "\n",
       "    .dataframe thead th {\n",
       "        text-align: right;\n",
       "    }\n",
       "</style>\n",
       "<table border=\"1\" class=\"dataframe\">\n",
       "  <thead>\n",
       "    <tr style=\"text-align: right;\">\n",
       "      <th></th>\n",
       "      <th>prompt</th>\n",
       "      <th>image_nsfw</th>\n",
       "      <th>prompt_nsfw</th>\n",
       "    </tr>\n",
       "  </thead>\n",
       "  <tbody>\n",
       "    <tr>\n",
       "      <th>0</th>\n",
       "      <td>a portrait of a female robot made from code, v...</td>\n",
       "      <td>0.554853</td>\n",
       "      <td>0.001621</td>\n",
       "    </tr>\n",
       "    <tr>\n",
       "      <th>1</th>\n",
       "      <td>a portrait of a female robot made from a cloud...</td>\n",
       "      <td>0.153645</td>\n",
       "      <td>0.000707</td>\n",
       "    </tr>\n",
       "    <tr>\n",
       "      <th>2</th>\n",
       "      <td>only memories remain, trending on artstation</td>\n",
       "      <td>0.062496</td>\n",
       "      <td>0.000425</td>\n",
       "    </tr>\n",
       "    <tr>\n",
       "      <th>3</th>\n",
       "      <td>dream swimming pool with nobody</td>\n",
       "      <td>0.030799</td>\n",
       "      <td>0.003586</td>\n",
       "    </tr>\n",
       "    <tr>\n",
       "      <th>4</th>\n",
       "      <td>a dog doing weights. epic oil painting.</td>\n",
       "      <td>0.181035</td>\n",
       "      <td>0.030822</td>\n",
       "    </tr>\n",
       "  </tbody>\n",
       "</table>\n",
       "</div>"
      ],
      "text/plain": [
       "                                              prompt  image_nsfw  prompt_nsfw\n",
       "0  a portrait of a female robot made from code, v...    0.554853     0.001621\n",
       "1  a portrait of a female robot made from a cloud...    0.153645     0.000707\n",
       "2      only memories remain, trending on artstation     0.062496     0.000425\n",
       "3                   dream swimming pool with nobody     0.030799     0.003586\n",
       "4           a dog doing weights. epic oil painting.     0.181035     0.030822"
      ]
     },
     "execution_count": 3,
     "metadata": {},
     "output_type": "execute_result"
    }
   ],
   "source": [
    "df.head()"
   ]
  },
  {
   "cell_type": "code",
   "execution_count": 4,
   "id": "7da4bfb9",
   "metadata": {},
   "outputs": [],
   "source": [
    "violent_keywords = [\n",
    "    \"kill\", \"attack\", \"gun\", \"shoot\", \"stab\", \"murder\", \n",
    "    \"bomb\", \"threat\", \"harm\", \"suicide\", 'beat', \n",
    "    'choke', 'hit', 'punch', 'slaughter', 'strangle', \n",
    "    'suffocate', 'crush', 'assault', 'batter', 'maul', \n",
    "    'knife', 'bomb', 'rifle', 'pistol', 'blade', 'explosive', \n",
    "    'grenade', 'missile', 'poison', 'chainsaw', 'crowbar', \n",
    "    'bat', 'taser', 'murder', 'detonate', 'slash', 'eliminate',\n",
    "] # REMEMBER TO UPDATE LATER AS I FIGURE OUT WHAT WORDS SHOW UP OFTEN :nooticing:\n",
    "# update 1: my algorithm is slow asl because i have like 50 or smth words, reducing word count might actually be the method."
   ]
  },
  {
   "cell_type": "code",
   "execution_count": 5,
   "id": "b604e70f",
   "metadata": {},
   "outputs": [],
   "source": [
    "pattern = '|'.join(map(re.escape, violent_keywords)) #regex patterns, can be changed depending on if i need case sensitivity or not\n",
    "regex = re.compile(pattern, flags=re.IGNORECASE) "
   ]
  },
  {
   "cell_type": "code",
   "execution_count": null,
   "id": "58102e52",
   "metadata": {},
   "outputs": [],
   "source": [
    "size = 100000  # can be adjusted, may want to increase scale later depending on how this performs. UPDATE 1: performance is based on violent_keywords, might need to adjust that list to improve performance\n",
    "output_list = []\n",
    "for chunk in pd.read_csv('diffusion_db_unaltered.csv', chunksize=size):\n",
    "    chunk['contains_violent'] = chunk['prompt'].str.contains(\n",
    "        pattern, case=False, regex=True, na=False\n",
    "    ) # try to improve performance, currently takes 5~ minutes to process 100k, haven't tested 200k+\n",
    "\n",
    "    # VERSION 1 OF THIS DONT RUN IT THIS IS HERE FOR REFERENCE"
   ]
  },
  {
   "cell_type": "code",
   "execution_count": 6,
   "id": "91c1f2e2",
   "metadata": {},
   "outputs": [],
   "source": [
    "#attempt 2 at chunking\n",
    "chunk_size = 100000 # 200k is probably the limit because of memory/speed issues, needs to be tested further\n",
    "output_list = []\n",
    "for chunk in pd.read_csv('diffusion_db_unaltered.csv', chunksize=chunk_size):\n",
    "    chunk['contains_violent'] = chunk['prompt'].str.contains(\n",
    "        regex,\n",
    "        na=False # basic substring check, might need to backtrack to v1 substring check\n",
    ")\n",
    "violent_rows = chunk[chunk['contains_violent']] #specifically only saving flagged rows to try and optimize, might change later\n",
    "output_list.append(violent_rows)\n",
    "# memory cleanup\n",
    "del chunk\n",
    "del violent_rows\n",
    "if output_list: # combining results, may skip this step later\n",
    "    final_df = pd.concat(output_list, ignore_index=True)\n",
    "else:\n",
    "    print(\"yea there aint no violence here gang\")"
   ]
  },
  {
   "cell_type": "code",
   "execution_count": 7,
   "id": "22a294f7",
   "metadata": {},
   "outputs": [
    {
     "name": "stdout",
     "output_type": "stream",
     "text": [
      "                                                  prompt  contains_violent\n",
      "10654  portrait of a cute fat girl with a gun in a ra...              True\n",
      "11155  leonardo davinci hugging an ai robot professio...              True\n",
      "3540   photo of a black kitchen, red walls, white flo...              True\n",
      "6493   kanade tachibana from angel beats | | fine det...              True\n",
      "6084   award winning photo of some melancholy as anto...              True\n",
      "9768   Schematic drawing of a gun for angels, concept...              True\n",
      "5722   maximalist vibrant sculpture of godly street v...              True\n",
      "8911                               walter white in gta 5              True\n",
      "4115       attack on titan in the style of cowboy bebop               True\n",
      "3919              mileena from mortal kombat 3 d render               True\n"
     ]
    }
   ],
   "source": [
    "testing = final_df.sample(10)\n",
    "print(testing[[\"prompt\", \"contains_violent\"]])\n"
   ]
  },
  {
   "cell_type": "code",
   "execution_count": null,
   "id": "f30bf292",
   "metadata": {},
   "outputs": [],
   "source": []
  }
 ],
 "metadata": {
  "kernelspec": {
   "display_name": "Python 3 (ipykernel)",
   "language": "python",
   "name": "python3"
  },
  "language_info": {
   "codemirror_mode": {
    "name": "ipython",
    "version": 3
   },
   "file_extension": ".py",
   "mimetype": "text/x-python",
   "name": "python",
   "nbconvert_exporter": "python",
   "pygments_lexer": "ipython3",
   "version": "3.9.13"
  }
 },
 "nbformat": 4,
 "nbformat_minor": 5
}
